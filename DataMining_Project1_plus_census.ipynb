{
  "cells": [
    {
      "cell_type": "code",
      "execution_count": 1,
      "id": "879e461a-8d8a-43a7-a448-f3e184b205c6",
      "metadata": {
        "colab": {
          "base_uri": "https://localhost:8080/",
          "height": 280
        },
        "id": "879e461a-8d8a-43a7-a448-f3e184b205c6",
        "outputId": "eed8d7f2-6e33-4efe-a3fb-c9c492506c62"
      },
      "outputs": [
        {
          "output_type": "stream",
          "name": "stderr",
          "text": [
            "── \u001b[1mAttaching core tidyverse packages\u001b[22m ──────────────────────── tidyverse 2.0.0 ──\n",
            "\u001b[32m✔\u001b[39m \u001b[34mdplyr    \u001b[39m 1.1.4     \u001b[32m✔\u001b[39m \u001b[34mreadr    \u001b[39m 2.1.5\n",
            "\u001b[32m✔\u001b[39m \u001b[34mforcats  \u001b[39m 1.0.0     \u001b[32m✔\u001b[39m \u001b[34mstringr  \u001b[39m 1.5.1\n",
            "\u001b[32m✔\u001b[39m \u001b[34mggplot2  \u001b[39m 3.5.1     \u001b[32m✔\u001b[39m \u001b[34mtibble   \u001b[39m 3.2.1\n",
            "\u001b[32m✔\u001b[39m \u001b[34mlubridate\u001b[39m 1.9.3     \u001b[32m✔\u001b[39m \u001b[34mtidyr    \u001b[39m 1.3.1\n",
            "\u001b[32m✔\u001b[39m \u001b[34mpurrr    \u001b[39m 1.0.2     \n",
            "── \u001b[1mConflicts\u001b[22m ────────────────────────────────────────── tidyverse_conflicts() ──\n",
            "\u001b[31m✖\u001b[39m \u001b[34mdplyr\u001b[39m::\u001b[32mfilter()\u001b[39m masks \u001b[34mstats\u001b[39m::filter()\n",
            "\u001b[31m✖\u001b[39m \u001b[34mdplyr\u001b[39m::\u001b[32mlag()\u001b[39m    masks \u001b[34mstats\u001b[39m::lag()\n",
            "\u001b[36mℹ\u001b[39m Use the conflicted package (\u001b[3m\u001b[34m<http://conflicted.r-lib.org/>\u001b[39m\u001b[23m) to force all conflicts to become errors\n"
          ]
        },
        {
          "output_type": "error",
          "ename": "ERROR",
          "evalue": "Error in library(\"ggrepel\"): there is no package called ‘ggrepel’\n",
          "traceback": [
            "Error in library(\"ggrepel\"): there is no package called ‘ggrepel’\nTraceback:\n",
            "1. stop(packageNotFoundError(package, lib.loc, sys.call()))"
          ]
        }
      ],
      "source": [
        "# Importing necessary libraries\n",
        "library(\"tidyverse\")\n",
        "library(\"ggplot2\")\n",
        "library(\"ggrepel\")\n",
        "library(\"ggcorrplot\")\n",
        "library(\"DT\")\n",
        "library(dplyr)\n",
        "library(tidyr)\n",
        "\n",
        "install.packages(\"dplyr\")\n",
        "\n",
        "# Load the dplyr package\n",
        "library(dplyr)"
      ]
    },
    {
      "cell_type": "markdown",
      "id": "c92dbb71-4389-4163-b0bf-d99c0bedeade",
      "metadata": {
        "id": "c92dbb71-4389-4163-b0bf-d99c0bedeade"
      },
      "source": [
        "# COVID-19_cases_plus_census"
      ]
    },
    {
      "cell_type": "code",
      "execution_count": 2,
      "id": "893f803a-1859-432e-8004-015aae620384",
      "metadata": {
        "id": "893f803a-1859-432e-8004-015aae620384"
      },
      "outputs": [],
      "source": [
        "# Retrieve \"COVID-19_cases_plus_census.csv\" file\n",
        "dataset_plus_census <- read.csv(\"https://raw.githubusercontent.com/yamphurai/Data_Mining_Project1/refs/heads/main/COVID-19_cases_plus_census.csv\")"
      ]
    },
    {
      "cell_type": "markdown",
      "id": "76712488-2c31-45ff-9e82-92714bb41637",
      "metadata": {
        "id": "76712488-2c31-45ff-9e82-92714bb41637"
      },
      "source": [
        "## Freature Processing"
      ]
    },
    {
      "cell_type": "code",
      "execution_count": 3,
      "id": "bdda1da6-498f-4984-a478-43e8b188c8e4",
      "metadata": {
        "id": "bdda1da6-498f-4984-a478-43e8b188c8e4"
      },
      "outputs": [],
      "source": [
        "# Create a new column 'rent_under_50_percent' to add the values from columns with rent 50% and below\n",
        "dataset_plus_census <- dataset_plus_census %>%\n",
        "  mutate(rent_under_50_percent = rent_40_to_50_percent +\n",
        "                                  rent_35_to_40_percent +\n",
        "                                  rent_30_to_35_percent +\n",
        "                                  rent_25_to_30_percent +\n",
        "                                  rent_20_to_25_percent +\n",
        "                                  rent_15_to_20_percent +\n",
        "                                  rent_10_to_15_percent +\n",
        "                                  rent_under_10_percent)"
      ]
    },
    {
      "cell_type": "code",
      "execution_count": 6,
      "id": "f3d290ad-e1b8-4c08-ac36-4e65297f1487",
      "metadata": {
        "colab": {
          "base_uri": "https://localhost:8080/",
          "height": 34
        },
        "id": "f3d290ad-e1b8-4c08-ac36-4e65297f1487",
        "outputId": "9706adc3-950d-41ca-e7e9-1e90df4f03d7"
      },
      "outputs": [
        {
          "output_type": "display_data",
          "data": {
            "text/html": [
              "260"
            ],
            "text/markdown": "260",
            "text/latex": "260",
            "text/plain": [
              "[1] 260"
            ]
          },
          "metadata": {}
        }
      ],
      "source": [
        "length(names(dataset_plus_census))"
      ]
    },
    {
      "cell_type": "code",
      "execution_count": 7,
      "id": "644422aa-d515-4648-affe-7625a01bb600",
      "metadata": {
        "colab": {
          "base_uri": "https://localhost:8080/"
        },
        "id": "644422aa-d515-4648-affe-7625a01bb600",
        "outputId": "59b6ba69-8336-4c73-8e24-8b02bf30e244"
      },
      "outputs": [
        {
          "output_type": "stream",
          "name": "stdout",
          "text": [
            " num [1:3142] 411 16148 13483 8510 4211 ...\n"
          ]
        }
      ],
      "source": [
        "# Checking the new values in the new column\n",
        "str(dataset_plus_census$rent_under_50_percent)"
      ]
    },
    {
      "cell_type": "markdown",
      "id": "a63ecf90-6d64-4974-beae-c6ff97085213",
      "metadata": {
        "id": "a63ecf90-6d64-4974-beae-c6ff97085213"
      },
      "source": [
        "The sum of the values of the first row and columns with rents <50% is $411. The sum for the second row is $16148. This indicates the the new column has been created correctly."
      ]
    },
    {
      "cell_type": "code",
      "execution_count": 8,
      "id": "eafeb49a-939b-462e-95c1-57bf0193861c",
      "metadata": {
        "id": "eafeb49a-939b-462e-95c1-57bf0193861c"
      },
      "outputs": [],
      "source": [
        "# For the analysis on COVID-19 cases, there could be minimum correlation between \"race\" and impact. Also, the analysis will already\n",
        "# including the living conditions of the public. Thus, the feature columns regarding race can be dropped.\n",
        "dataset_plus_census <- dataset_plus_census %>%\n",
        "  select(-rent_40_to_50_percent, -rent_35_to_40_percent, -rent_30_to_35_percent, -rent_25_to_30_percent, -rent_burden_not_computed, -rent_over_50_percent,\n",
        "         -rent_20_to_25_percent, -rent_15_to_20_percent, -rent_10_to_15_percent, -rent_under_10_percent)"
      ]
    },
    {
      "cell_type": "code",
      "execution_count": 9,
      "id": "8fb93a44-ae62-4d44-b720-7b6559c53961",
      "metadata": {
        "colab": {
          "base_uri": "https://localhost:8080/",
          "height": 34
        },
        "id": "8fb93a44-ae62-4d44-b720-7b6559c53961",
        "outputId": "b8674d88-75d0-43ff-d62c-e4c7e770eae5"
      },
      "outputs": [
        {
          "output_type": "display_data",
          "data": {
            "text/html": [
              "250"
            ],
            "text/markdown": "250",
            "text/latex": "250",
            "text/plain": [
              "[1] 250"
            ]
          },
          "metadata": {}
        }
      ],
      "source": [
        "length(names(dataset_plus_census))"
      ]
    },
    {
      "cell_type": "code",
      "execution_count": 10,
      "id": "a6b49654-5dca-47a9-8db1-9ed3e0738af1",
      "metadata": {
        "id": "a6b49654-5dca-47a9-8db1-9ed3e0738af1"
      },
      "outputs": [],
      "source": [
        "# We will also not consider structure of the families for our analysis and rather maintain focus on the financial structure of the families\n",
        "dataset_plus_census <- dataset_plus_census %>%\n",
        "  select(-families_with_young_children, -two_parent_families_with_young_children, -two_parents_in_labor_force_families_with_young_children, -two_parents_father_in_labor_force_families_with_young_children,\n",
        "         -two_parents_mother_in_labor_force_families_with_young_children, -two_parents_not_in_labor_force_families_with_young_children, -one_parent_families_with_young_children, -father_one_parent_families_with_young_children,\n",
        "        -father_in_labor_force_one_parent_families_with_young_children)"
      ]
    },
    {
      "cell_type": "code",
      "execution_count": 11,
      "id": "ddc46b52-1c52-4102-b61e-dc1e74a12f8e",
      "metadata": {
        "colab": {
          "base_uri": "https://localhost:8080/",
          "height": 34
        },
        "id": "ddc46b52-1c52-4102-b61e-dc1e74a12f8e",
        "outputId": "a6d8d262-d1c5-4f93-cf9d-cf30d91fc742"
      },
      "outputs": [
        {
          "output_type": "display_data",
          "data": {
            "text/html": [
              "241"
            ],
            "text/markdown": "241",
            "text/latex": "241",
            "text/plain": [
              "[1] 241"
            ]
          },
          "metadata": {}
        }
      ],
      "source": [
        "length(names(dataset_plus_census))"
      ]
    },
    {
      "cell_type": "code",
      "execution_count": 12,
      "id": "dbfc6c36-8bd6-4959-9aa1-d3422c3738fd",
      "metadata": {
        "id": "dbfc6c36-8bd6-4959-9aa1-d3422c3738fd"
      },
      "outputs": [],
      "source": [
        "# Similar to the above reasoning, we will ignore statistics on housing data\n",
        "dataset_plus_census <- dataset_plus_census %>%\n",
        "  select(-housing_units, -vacant_housing_units, -vacant_housing_units_for_rent, -vacant_housing_units_for_sale, -owner_occupied_housing_units,\n",
        "         -million_dollar_housing_units, -mortgaged_housing_units, -owner_occupied_housing_units_lower_value_quartile, -owner_occupied_housing_units_median_value,\n",
        "        -owner_occupied_housing_units_upper_value_quartile, -occupied_housing_units, -married_households, -housing_units_renter_occupied)"
      ]
    },
    {
      "cell_type": "code",
      "execution_count": 13,
      "id": "cc272c11-7a83-4cd9-9acc-55950f39d097",
      "metadata": {
        "colab": {
          "base_uri": "https://localhost:8080/",
          "height": 34
        },
        "id": "cc272c11-7a83-4cd9-9acc-55950f39d097",
        "outputId": "70fb51c4-d4d2-4a80-a951-a292097f5173"
      },
      "outputs": [
        {
          "output_type": "display_data",
          "data": {
            "text/html": [
              "228"
            ],
            "text/markdown": "228",
            "text/latex": "228",
            "text/plain": [
              "[1] 228"
            ]
          },
          "metadata": {}
        }
      ],
      "source": [
        "length(names(dataset_plus_census))"
      ]
    },
    {
      "cell_type": "code",
      "execution_count": 14,
      "id": "19adf371-5160-4453-9b4c-1b8c2b2d953b",
      "metadata": {
        "id": "19adf371-5160-4453-9b4c-1b8c2b2d953b"
      },
      "outputs": [],
      "source": [
        "# Create a new columns 'income_less_50K', \"income_50K_100K', \"income_100K-150K\" , \"income_150K_more\" to group the columns related to income levels\n",
        "dataset_plus_census <- dataset_plus_census %>%\n",
        "  mutate(income_less_50K = income_less_10000 + income_10000_14999 + income_15000_19999 + income_20000_24999 + income_25000_29999 + income_30000_34999 +\n",
        "         income_35000_39999  + income_40000_44999 + income_45000_49999)\n",
        "\n",
        "dataset_plus_census <- dataset_plus_census %>%\n",
        "  mutate(income_50K_100K = income_50000_59999 + income_60000_74999 + income_75000_99999)\n",
        "\n",
        "dataset_plus_census <- dataset_plus_census %>%\n",
        "  mutate(income_100K_150K = income_100000_124999 + income_125000_149999)\n",
        "\n",
        "dataset_plus_census <- dataset_plus_census %>%\n",
        "  mutate(income_150K_more = income_150000_199999 + income_200000_or_more)\n",
        ""
      ]
    },
    {
      "cell_type": "code",
      "execution_count": 15,
      "id": "0e44e34d-0fb9-44fb-adf3-1460b7fadd62",
      "metadata": {
        "id": "0e44e34d-0fb9-44fb-adf3-1460b7fadd62"
      },
      "outputs": [],
      "source": [
        "# Now the old columns related to the income levels can be dropped\n",
        "dataset_plus_census <- dataset_plus_census %>%\n",
        "  select(-income_less_10000, -income_10000_14999, -income_15000_19999, -income_20000_24999, -income_25000_29999, -income_30000_34999, -income_35000_39999,\n",
        "         -income_40000_44999, -income_45000_49999, -income_50000_59999, -income_60000_74999, -income_75000_99999, -income_100000_124999, -income_125000_149999,\n",
        "        -income_150000_199999, -income_200000_or_more)"
      ]
    },
    {
      "cell_type": "code",
      "execution_count": 16,
      "id": "9b80b799-2fbe-4ae5-8bd6-fda24abf7dab",
      "metadata": {
        "colab": {
          "base_uri": "https://localhost:8080/",
          "height": 34
        },
        "id": "9b80b799-2fbe-4ae5-8bd6-fda24abf7dab",
        "outputId": "bb5730a1-d527-4e7c-a33a-6aa18a1f7de7"
      },
      "outputs": [
        {
          "output_type": "display_data",
          "data": {
            "text/html": [
              "216"
            ],
            "text/markdown": "216",
            "text/latex": "216",
            "text/plain": [
              "[1] 216"
            ]
          },
          "metadata": {}
        }
      ],
      "source": [
        "length(names(dataset_plus_census))"
      ]
    },
    {
      "cell_type": "code",
      "execution_count": 17,
      "id": "998eda94-38c9-44dc-ab45-927a2f1662d6",
      "metadata": {
        "id": "998eda94-38c9-44dc-ab45-927a2f1662d6"
      },
      "outputs": [],
      "source": [
        "# Data on the dwelling and the built year of the houses are not significant to our analysis so those columns are dropped\n",
        "dataset_plus_census <- dataset_plus_census %>%\n",
        "  select(-renter_occupied_housing_units_paying_cash_median_gross_rent, -dwellings_1_units_detached, -dwellings_1_units_attached, -dwellings_2_units, -dwellings_3_to_4_units,\n",
        "         -dwellings_5_to_9_units, -dwellings_10_to_19_units, -dwellings_20_to_49_units, -dwellings_50_or_more_units, -mobile_homes, -housing_built_2005_or_later,\n",
        "         -housing_built_2000_to_2004, -housing_built_1939_or_earlier)"
      ]
    },
    {
      "cell_type": "code",
      "execution_count": 18,
      "id": "cbe38813-f325-4cae-9545-887f3a5fc0c5",
      "metadata": {
        "colab": {
          "base_uri": "https://localhost:8080/",
          "height": 34
        },
        "id": "cbe38813-f325-4cae-9545-887f3a5fc0c5",
        "outputId": "893bfb14-c51c-4a5d-9ff7-9873d291efa1"
      },
      "outputs": [
        {
          "output_type": "display_data",
          "data": {
            "text/html": [
              "203"
            ],
            "text/markdown": "203",
            "text/latex": "203",
            "text/plain": [
              "[1] 203"
            ]
          },
          "metadata": {}
        }
      ],
      "source": [
        "length(names(dataset_plus_census))"
      ]
    },
    {
      "cell_type": "code",
      "execution_count": 19,
      "id": "73b895b6-03fa-484a-bb15-da4cccd0f892",
      "metadata": {
        "id": "73b895b6-03fa-484a-bb15-da4cccd0f892"
      },
      "outputs": [],
      "source": [
        "# We will group the ages of males and females from 0-20, 21-49, 50 above. So the relevant feature columns are dropped\n",
        "dataset_plus_census <- dataset_plus_census %>%\n",
        "  mutate(male_0_20 = male_under_5 + male_5_to_9 + male_10_to_14 + male_15_to_17 + male_18_to_19 + male_20)\n",
        "\n",
        "dataset_plus_census <- dataset_plus_census %>%\n",
        "  mutate(male_21_49 = male_21 + male_22_to_24 + male_25_to_29 + male_30_to_34 + male_35_to_39 + male_40_to_44 + male_45_to_49)\n",
        "\n",
        "dataset_plus_census <- dataset_plus_census %>%\n",
        "  mutate(male_50_above = male_50_to_54 + male_55_to_59 + male_60_61 + male_62_64 + male_65_to_66 + male_67_to_69 + male_67_to_69 + male_70_to_74 + male_75_to_79 + male_80_to_84 + male_85_and_over)\n",
        "\n",
        "dataset_plus_census <- dataset_plus_census %>%\n",
        "  mutate(female_0_20 = female_under_5 + female_5_to_9 + female_10_to_14 + female_15_to_17 + female_18_to_19 + female_20)\n",
        "\n",
        "dataset_plus_census <- dataset_plus_census %>%\n",
        "  mutate(female_21_49 = female_21 + female_22_to_24 + female_25_to_29 + female_30_to_34 + female_35_to_39 + female_40_to_44 + female_45_to_49)\n",
        "\n",
        "dataset_plus_census <- dataset_plus_census %>%\n",
        "  mutate(female_50_above = female_50_to_54 + female_55_to_59 + female_60_to_61 + female_62_to_64 + female_65_to_66 + female_67_to_69 + female_70_to_74 + female_75_to_79 + female_75_to_79 + female_80_to_84 + female_85_and_over)\n",
        "\n",
        "# Drop the feature columns now\n",
        "dataset_plus_census <- dataset_plus_census %>%\n",
        "  select(-male_under_5, -male_5_to_9, -male_10_to_14, -male_15_to_17, -male_18_to_19, -male_20, -male_21, -male_22_to_24, -male_25_to_29, -male_30_to_34,\n",
        "         -male_35_to_39, -male_40_to_44, -male_45_to_49, -male_50_to_54, -male_55_to_59, -male_60_61, -male_62_64, -male_65_to_66, -male_67_to_69, -male_67_to_69,\n",
        "         -male_70_to_74, -male_75_to_79, -male_80_to_84, -male_85_and_over,\n",
        "\n",
        "         -female_under_5, -female_5_to_9, -female_10_to_14, -female_15_to_17, -female_18_to_19, -female_20, -female_21, -female_22_to_24, -female_25_to_29,\n",
        "         -female_30_to_34, -female_35_to_39, -female_40_to_44, -female_45_to_49, -female_50_to_54, -female_55_to_59, -female_60_to_61, -female_62_to_64, -female_65_to_66, -female_67_to_69, -female_70_to_74,\n",
        "         -female_75_to_79, -female_80_to_84, -female_85_and_over)"
      ]
    },
    {
      "cell_type": "code",
      "execution_count": 20,
      "id": "012ae477-6be7-4f36-866e-a4ffd25af9c1",
      "metadata": {
        "colab": {
          "base_uri": "https://localhost:8080/",
          "height": 34
        },
        "id": "012ae477-6be7-4f36-866e-a4ffd25af9c1",
        "outputId": "704f2f22-13c5-4907-b725-18d715e716b5"
      },
      "outputs": [
        {
          "output_type": "display_data",
          "data": {
            "text/html": [
              "163"
            ],
            "text/markdown": "163",
            "text/latex": "163",
            "text/plain": [
              "[1] 163"
            ]
          },
          "metadata": {}
        }
      ],
      "source": [
        "length(names(dataset_plus_census))"
      ]
    },
    {
      "cell_type": "code",
      "execution_count": 21,
      "id": "b8adf54a-9f81-435e-95af-994329add63d",
      "metadata": {
        "id": "b8adf54a-9f81-435e-95af-994329add63d"
      },
      "outputs": [],
      "source": [
        "# Drop the columns with values related to race\n",
        "dataset_plus_census <- dataset_plus_census %>%\n",
        "  select(-white_including_hispanic, -black_including_hispanic, -amerindian_including_hispanic, -asian_including_hispanic)"
      ]
    },
    {
      "cell_type": "code",
      "execution_count": 22,
      "id": "cd157d52-0542-4fdf-b8a8-c4bc43f7a7d3",
      "metadata": {
        "colab": {
          "base_uri": "https://localhost:8080/",
          "height": 34
        },
        "id": "cd157d52-0542-4fdf-b8a8-c4bc43f7a7d3",
        "outputId": "76b2924e-7cbc-4b57-d589-c0484f89d2df"
      },
      "outputs": [
        {
          "output_type": "display_data",
          "data": {
            "text/html": [
              "159"
            ],
            "text/markdown": "159",
            "text/latex": "159",
            "text/plain": [
              "[1] 159"
            ]
          },
          "metadata": {}
        }
      ],
      "source": [
        "length(names(dataset_plus_census))"
      ]
    },
    {
      "cell_type": "code",
      "execution_count": 23,
      "id": "360f47e6-8624-4975-892a-eaedf3a9bb46",
      "metadata": {
        "id": "360f47e6-8624-4975-892a-eaedf3a9bb46"
      },
      "outputs": [],
      "source": [
        "# The data on the education status of the people are not significant to our analysis so the relevant columns are dropped\n",
        "dataset_plus_census <- dataset_plus_census %>%\n",
        "  select(-one_year_more_college, -masters_degree, -less_one_year_college, -high_school_diploma, -bachelors_degree, -associates_degree)"
      ]
    },
    {
      "cell_type": "code",
      "execution_count": 24,
      "id": "bd134acc-d96f-4956-8a4c-e11019127d9c",
      "metadata": {
        "colab": {
          "base_uri": "https://localhost:8080/",
          "height": 34
        },
        "id": "bd134acc-d96f-4956-8a4c-e11019127d9c",
        "outputId": "3abe0930-f131-461f-d626-dc46c86d293c"
      },
      "outputs": [
        {
          "output_type": "display_data",
          "data": {
            "text/html": [
              "153"
            ],
            "text/markdown": "153",
            "text/latex": "153",
            "text/plain": [
              "[1] 153"
            ]
          },
          "metadata": {}
        }
      ],
      "source": [
        "length(names(dataset_plus_census))"
      ]
    },
    {
      "cell_type": "code",
      "execution_count": 25,
      "id": "035e717d-c3b4-4d95-a70d-10c74fd6eb6a",
      "metadata": {
        "id": "035e717d-c3b4-4d95-a70d-10c74fd6eb6a"
      },
      "outputs": [],
      "source": [
        "# Since we are already considering the age of males and females separately, we can drop other relevant columns\n",
        "dataset_plus_census <- dataset_plus_census %>%\n",
        "  select(-population_1_year_and_over, -population_3_years_over, -pop_determined_poverty_status, -pop_25_64)\n"
      ]
    },
    {
      "cell_type": "code",
      "execution_count": 26,
      "id": "94547a9a-401a-4c99-9b40-8964f8de1ed3",
      "metadata": {
        "colab": {
          "base_uri": "https://localhost:8080/",
          "height": 34
        },
        "id": "94547a9a-401a-4c99-9b40-8964f8de1ed3",
        "outputId": "29a5348d-ee88-424a-89c4-89f15242f56a"
      },
      "outputs": [
        {
          "output_type": "display_data",
          "data": {
            "text/html": [
              "149"
            ],
            "text/markdown": "149",
            "text/latex": "149",
            "text/plain": [
              "[1] 149"
            ]
          },
          "metadata": {}
        }
      ],
      "source": [
        "length(names(dataset_plus_census))"
      ]
    },
    {
      "cell_type": "code",
      "execution_count": 27,
      "id": "717224db-8564-449e-bc9a-cb3f8ce03e60",
      "metadata": {
        "id": "717224db-8564-449e-bc9a-cb3f8ce03e60"
      },
      "outputs": [],
      "source": [
        "# Group all the data of the columns containing data related to commuting to work regardless of time spend to commute\n",
        "dataset_plus_census <- dataset_plus_census %>%\n",
        "  mutate(commute = commuters_16_over + commute_less_10_mins + commute_60_more_mins + commute_35_44_mins + commuters_drove_alone + commuters_by_subway_or_elevated +\n",
        "         commuters_by_car_truck_van + commuters_by_carpool + commuters_by_bus + commute_90_more_mins + commute_60_89_mins + commute_40_44_mins + commute_35_39_mins +\n",
        "         commute_5_9_mins + commuters_by_public_transportation)"
      ]
    },
    {
      "cell_type": "code",
      "source": [
        "# Dropping the relevant columns for commute time\n",
        "dataset_plus_census <- dataset_plus_census %>%\n",
        "  select(-commute_10_14_mins, -commute_15_19_mins, -commute_20_24_mins, -commute_25_29_mins, -commute_30_34_mins, -commute_45_59_mins, -commute_5_9_mins, -commute_35_39_mins, -commute_40_44_mins,\n",
        "-commute_60_89_mins,-commute_90_more_mins, -commuters_by_bus, -commuters_by_car_truck_van, -commuters_by_carpool, -commuters_by_subway_or_elevated, -commuters_drove_alone, -commute_60_more_mins,\n",
        "-commute_35_44_mins, -commute_60_more_mins, -commute_less_10_mins, -commuters_16_over)"
      ],
      "metadata": {
        "id": "6d6c9j3iQ2Uu"
      },
      "id": "6d6c9j3iQ2Uu",
      "execution_count": 28,
      "outputs": []
    },
    {
      "cell_type": "code",
      "source": [
        "length(names(dataset_plus_census))"
      ],
      "metadata": {
        "colab": {
          "base_uri": "https://localhost:8080/",
          "height": 34
        },
        "id": "AlWFNV29SXz-",
        "outputId": "5c1e515f-5e75-4f8e-c04c-bf14b8c15a75"
      },
      "id": "AlWFNV29SXz-",
      "execution_count": 29,
      "outputs": [
        {
          "output_type": "display_data",
          "data": {
            "text/html": [
              "130"
            ],
            "text/markdown": "130",
            "text/latex": "130",
            "text/plain": [
              "[1] 130"
            ]
          },
          "metadata": {}
        }
      ]
    },
    {
      "cell_type": "code",
      "source": [
        "# We are already considering male/female and age redated data. So these columns are dropped\n",
        "dataset_plus_census <- dataset_plus_census %>%\n",
        "  select(-white_male_55_64, -white_male_45_54, -hispanic_male_55_64, -hispanic_male_45_54, -black_male_55_64, -black_male_45_54, -asian_male_55_64, -asian_male_45_54)"
      ],
      "metadata": {
        "id": "6sCP2CBfM2fj"
      },
      "id": "6sCP2CBfM2fj",
      "execution_count": 30,
      "outputs": []
    },
    {
      "cell_type": "code",
      "source": [
        "length(names(dataset_plus_census))"
      ],
      "metadata": {
        "colab": {
          "base_uri": "https://localhost:8080/",
          "height": 34
        },
        "id": "KCxW4M6ONxcb",
        "outputId": "b963f4a9-0282-425b-b4cf-56578df2a475"
      },
      "id": "KCxW4M6ONxcb",
      "execution_count": 31,
      "outputs": [
        {
          "output_type": "display_data",
          "data": {
            "text/html": [
              "122"
            ],
            "text/markdown": "122",
            "text/latex": "122",
            "text/plain": [
              "[1] 122"
            ]
          },
          "metadata": {}
        }
      ]
    },
    {
      "cell_type": "code",
      "execution_count": 32,
      "id": "bfc7f227-211e-47c9-93d2-b5e8b8237880",
      "metadata": {
        "id": "bfc7f227-211e-47c9-93d2-b5e8b8237880"
      },
      "outputs": [],
      "source": [
        "# Drop irrelevant columns\n",
        "dataset_plus_census <- dataset_plus_census %>%\n",
        "  select(-households, -income_per_capita, -percent_income_spent_on_rent, -median_rent, -hispanic_any_race, -speak_only_english_at_home,\n",
        "        -speak_spanish_at_home, -speak_spanish_at_home_low_english, -pop_5_years_over, -pop_15_and_over, -pop_never_married, -pop_now_married, -pop_separated, -pop_widowed,\n",
        "         -pop_divorced, -pop_25_years_over, -poverty, -workers_16_and_over, -some_college_and_associates_degree, -sales_office_employed, -one_car, -no_car, -two_cars, -three_cars, -four_more_cars,\n",
        "          -aggregate_travel_time_to_work,\n",
        "         -occupation_management_arts, -occupation_natural_resources_construction_maintenance, -occupation_production_transportation_material, -occupation_sales_office, -occupation_services, -not_us_citizen_pop,\n",
        "         -management_business_sci_arts_employed, -male_male_households, -male_45_to_64, -male_45_64_some_college, -male_45_64_high_school, -male_45_64_grade_9_12, -male_45_64_less_than_9_grade,\n",
        "         -male_45_64_graduate_degree, -male_45_64_associates_degree, -less_than_high_school_graduate, -in_undergrad_college, -in_school, -in_grades_9_to_12, -in_grades_5_to_8, -in_grades_1_to_4,\n",
        "         -high_school_including_ged, -group_quarters, -graduate_professional_degree, -gini_index, -female_female_households, -employed_wholesale_trade, -employed_transportation_warehousing_utilities,\n",
        "         -employed_science_management_admin_waste, -employed_retail_trade, -employed_public_administration, -employed_other_services_not_public_admin, -employed_manufacturing, -employed_information,\n",
        "         -employed_finance_insurance_real_estate, -employed_education_health_social, -employed_construction, -employed_arts_entertainment_recreation_accommodation_food, -employed_agriculture_forestry_fishing_hunting_mining,\n",
        "         -households_public_asst_or_food_stamps, -different_house_year_ago_same_city, -different_house_year_ago_different_city, -children_in_single_female_hh, -children, -bachelors_degree_or_higher_25_64,\n",
        "         -bachelors_degree_2, -pop_in_labor_force, -pop_16_over, -not_in_labor_force, -civilian_labor_force, -armed_forces, -households_retirement_income, -commuters_by_public_transportation, -male_45_64_bachelors_degree)\n",
        "\n",
        "\n",
        "\n"
      ]
    },
    {
      "cell_type": "code",
      "source": [
        "dataset_plus_census <- dataset_plus_census %>%\n",
        "  select(-county_fips_code, -nonfamily_households, -family_households, -median_year_structure_built, -two_or_more_races_pop, -not_hispanic_pop, -no_cars, -rent_under_50_percent, -do_date)"
      ],
      "metadata": {
        "id": "0ITs5uJjPc_S"
      },
      "id": "0ITs5uJjPc_S",
      "execution_count": 33,
      "outputs": []
    },
    {
      "cell_type": "code",
      "source": [
        "# Remaining feature columns\n",
        "print(length(names(dataset_plus_census)))\n",
        "print(names(dataset_plus_census))"
      ],
      "metadata": {
        "colab": {
          "base_uri": "https://localhost:8080/"
        },
        "id": "NplndOI8O0Pa",
        "outputId": "afa06c75-8818-4015-8c50-2a992c658348"
      },
      "id": "NplndOI8O0Pa",
      "execution_count": 34,
      "outputs": [
        {
          "output_type": "stream",
          "name": "stdout",
          "text": [
            "[1] 33\n",
            " [1] \"county_name\"      \"state\"            \"state_fips_code\"  \"date\"            \n",
            " [5] \"confirmed_cases\"  \"deaths\"           \"geo_id\"           \"total_pop\"       \n",
            " [9] \"male_pop\"         \"female_pop\"       \"median_age\"       \"white_pop\"       \n",
            "[13] \"black_pop\"        \"asian_pop\"        \"hispanic_pop\"     \"amerindian_pop\"  \n",
            "[17] \"other_race_pop\"   \"median_income\"    \"employed_pop\"     \"unemployed_pop\"  \n",
            "[21] \"walked_to_work\"   \"worked_at_home\"   \"income_less_50K\"  \"income_50K_100K\" \n",
            "[25] \"income_100K_150K\" \"income_150K_more\" \"male_0_20\"        \"male_21_49\"      \n",
            "[29] \"male_50_above\"    \"female_0_20\"      \"female_21_49\"     \"female_50_above\" \n",
            "[33] \"commute\"         \n"
          ]
        }
      ]
    },
    {
      "cell_type": "code",
      "source": [
        "# Rearrange the columns in the specified order\n",
        "dataset_plus_census <- dataset_plus_census %>%\n",
        "  select(\n",
        "    date, state, state_fips_code, county_name, geo_id, median_age, male_pop, female_pop, total_pop,\n",
        "    white_pop, black_pop, asian_pop, hispanic_pop, amerindian_pop, other_race_pop, median_income,\n",
        "    income_less_50K, income_50K_100K, income_100K_150K, income_150K_more, employed_pop,\n",
        "    unemployed_pop, walked_to_work, commute, male_0_20, male_21_49, male_50_above,\n",
        "    female_0_20, female_21_49, female_50_above\n",
        "  )\n",
        "\n",
        "# Save the updated dataset to a CSV file\n",
        "write.csv(dataset_plus_census, \"updated_dataset_plus_census.csv\", row.names = FALSE)"
      ],
      "metadata": {
        "id": "pCy7vHusV1Q6"
      },
      "id": "pCy7vHusV1Q6",
      "execution_count": 35,
      "outputs": []
    },
    {
      "cell_type": "code",
      "source": [
        "print(length(names(dataset_plus_census)))\n",
        "print(names(dataset_plus_census))"
      ],
      "metadata": {
        "colab": {
          "base_uri": "https://localhost:8080/"
        },
        "id": "4B27FTh6YfNp",
        "outputId": "14c97460-b9ff-46f2-e075-e00fb7f4c1bc"
      },
      "id": "4B27FTh6YfNp",
      "execution_count": 37,
      "outputs": [
        {
          "output_type": "stream",
          "name": "stdout",
          "text": [
            "[1] 30\n",
            " [1] \"date\"             \"state\"            \"state_fips_code\"  \"county_name\"     \n",
            " [5] \"geo_id\"           \"median_age\"       \"male_pop\"         \"female_pop\"      \n",
            " [9] \"total_pop\"        \"white_pop\"        \"black_pop\"        \"asian_pop\"       \n",
            "[13] \"hispanic_pop\"     \"amerindian_pop\"   \"other_race_pop\"   \"median_income\"   \n",
            "[17] \"income_less_50K\"  \"income_50K_100K\"  \"income_100K_150K\" \"income_150K_more\"\n",
            "[21] \"employed_pop\"     \"unemployed_pop\"   \"walked_to_work\"   \"commute\"         \n",
            "[25] \"male_0_20\"        \"male_21_49\"       \"male_50_above\"    \"female_0_20\"     \n",
            "[29] \"female_21_49\"     \"female_50_above\" \n"
          ]
        }
      ]
    },
    {
      "cell_type": "code",
      "source": [],
      "metadata": {
        "id": "LanAt5muZjmp"
      },
      "id": "LanAt5muZjmp",
      "execution_count": null,
      "outputs": []
    }
  ],
  "metadata": {
    "kernelspec": {
      "display_name": "R",
      "name": "ir"
    },
    "language_info": {
      "codemirror_mode": "r",
      "file_extension": ".r",
      "mimetype": "text/x-r-source",
      "name": "R",
      "pygments_lexer": "r",
      "version": "4.4.1"
    },
    "colab": {
      "provenance": [],
      "gpuType": "T4"
    },
    "accelerator": "GPU"
  },
  "nbformat": 4,
  "nbformat_minor": 5
}