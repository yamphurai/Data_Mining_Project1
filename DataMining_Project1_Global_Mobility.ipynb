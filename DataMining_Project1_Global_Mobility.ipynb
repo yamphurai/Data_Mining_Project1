{
 "cells": [
  {
   "cell_type": "markdown",
   "id": "0a83b975",
   "metadata": {
    "colab_type": "text",
    "id": "view-in-github"
   },
   "source": [
    "<a href=\"https://colab.research.google.com/github/yamphurai/Data_Mining_Project1/blob/main/DataMining_Project1.ipynb\" target=\"_parent\"><img src=\"https://colab.research.google.com/assets/colab-badge.svg\" alt=\"Open In Colab\"/></a>"
   ]
  },
  {
   "cell_type": "code",
   "execution_count": 4,
   "id": "993d238e-4b4e-4ef5-a607-ed524c2f8780",
   "metadata": {
    "colab": {
     "base_uri": "https://localhost:8080/",
     "height": 280
    },
    "id": "993d238e-4b4e-4ef5-a607-ed524c2f8780",
    "outputId": "0e7ecbaf-97ed-4558-dae1-d2a38bef3d7f"
   },
   "outputs": [
    {
     "name": "stderr",
     "output_type": "stream",
     "text": [
      "── \u001b[1mAttaching core tidyverse packages\u001b[22m ────────────────────── tidyverse 2.0.0 ──\n",
      "\u001b[32m✔\u001b[39m \u001b[34mdplyr    \u001b[39m 1.1.4     \u001b[32m✔\u001b[39m \u001b[34mreadr    \u001b[39m 2.1.5\n",
      "\u001b[32m✔\u001b[39m \u001b[34mforcats  \u001b[39m 1.0.0     \u001b[32m✔\u001b[39m \u001b[34mstringr  \u001b[39m 1.5.1\n",
      "\u001b[32m✔\u001b[39m \u001b[34mggplot2  \u001b[39m 3.5.1     \u001b[32m✔\u001b[39m \u001b[34mtibble   \u001b[39m 3.2.1\n",
      "\u001b[32m✔\u001b[39m \u001b[34mlubridate\u001b[39m 1.9.3     \u001b[32m✔\u001b[39m \u001b[34mtidyr    \u001b[39m 1.3.1\n",
      "\u001b[32m✔\u001b[39m \u001b[34mpurrr    \u001b[39m 1.0.2     \n",
      "── \u001b[1mConflicts\u001b[22m ──────────────────────────────────────── tidyverse_conflicts() ──\n",
      "\u001b[31m✖\u001b[39m \u001b[34mdplyr\u001b[39m::\u001b[32mfilter()\u001b[39m masks \u001b[34mstats\u001b[39m::filter()\n",
      "\u001b[31m✖\u001b[39m \u001b[34mdplyr\u001b[39m::\u001b[32mlag()\u001b[39m    masks \u001b[34mstats\u001b[39m::lag()\n",
      "\u001b[36mℹ\u001b[39m Use the conflicted package (\u001b[3m\u001b[34m<http://conflicted.r-lib.org/>\u001b[39m\u001b[23m) to force all conflicts to become errors\n"
     ]
    },
    {
     "name": "stdout",
     "output_type": "stream",
     "text": [
      "\n",
      "The downloaded binary packages are in\n",
      "\t/var/folders/1d/53kd6zpn72jbr2x8b7thj7t00000gn/T//Rtmp6FtOlg/downloaded_packages\n"
     ]
    }
   ],
   "source": [
    "# Importing necessary libraries\n",
    "library(\"tidyverse\")\n",
    "library(\"ggplot2\")\n",
    "library(\"ggrepel\")\n",
    "library(\"ggcorrplot\")\n",
    "library(\"DT\")\n",
    "library(dplyr)\n",
    "library(tidyr)\n",
    "\n",
    "install.packages(\"dplyr\")\n",
    "\n",
    "# Load the dplyr package\n",
    "library(dplyr)"
   ]
  },
  {
   "cell_type": "markdown",
   "id": "013f69cc-85cb-408f-a8a5-6c8db8f5a560",
   "metadata": {
    "id": "013f69cc-85cb-408f-a8a5-6c8db8f5a560"
   },
   "source": [
    "# COVID-19 Global Mobility"
   ]
  },
  {
   "cell_type": "code",
   "execution_count": 6,
   "id": "8f8f3979-1f1f-4506-8b75-61beddaaaadd",
   "metadata": {
    "id": "8f8f3979-1f1f-4506-8b75-61beddaaaadd"
   },
   "outputs": [],
   "source": [
    "# Retrieve \"COVID-19_global_mobility.csv\" file\n",
    "dataset_global_mobility <- read.csv(\"https://www.dropbox.com/scl/fi/x4i3ah1gmt4kryrrq0c8m/Global_Mobility_Report.csv?rlkey=tt4i5q1zss7e8ly2zmn8xvhc2&st=xnxrxz2d&dl=1\")"
   ]
  },
  {
   "cell_type": "code",
   "execution_count": null,
   "id": "f1a211d1-fc9a-46a7-81ea-236b1eecb24f",
   "metadata": {
    "id": "f1a211d1-fc9a-46a7-81ea-236b1eecb24f"
   },
   "outputs": [],
   "source": [
    "names(dataset_global_mobility)"
   ]
  },
  {
   "cell_type": "markdown",
   "id": "dbd0811c-e085-4470-9eb6-176fd4eef6ee",
   "metadata": {},
   "source": [
    "Here are the variables of the dataset"
   ]
  },
  {
   "cell_type": "markdown",
   "id": "7163aec4-7f9a-4b91-a847-83939e65b1a3",
   "metadata": {
    "id": "7163aec4-7f9a-4b91-a847-83939e65b1a3"
   },
   "source": [
    "## Structure of the dataset"
   ]
  },
  {
   "cell_type": "code",
   "execution_count": 8,
   "id": "74f0d5ab-34c7-402a-ae8e-6d7929124f8d",
   "metadata": {
    "id": "74f0d5ab-34c7-402a-ae8e-6d7929124f8d"
   },
   "outputs": [
    {
     "name": "stdout",
     "output_type": "stream",
     "text": [
      "'data.frame':\t3991405 obs. of  14 variables:\n",
      " $ country_region_code                               : chr  \"AE\" \"AE\" \"AE\" \"AE\" ...\n",
      " $ country_region                                    : chr  \"United Arab Emirates\" \"United Arab Emirates\" \"United Arab Emirates\" \"United Arab Emirates\" ...\n",
      " $ sub_region_1                                      : chr  \"\" \"\" \"\" \"\" ...\n",
      " $ sub_region_2                                      : chr  \"\" \"\" \"\" \"\" ...\n",
      " $ metro_area                                        : chr  \"\" \"\" \"\" \"\" ...\n",
      " $ iso_3166_2_code                                   : chr  \"\" \"\" \"\" \"\" ...\n",
      " $ census_fips_code                                  : int  NA NA NA NA NA NA NA NA NA NA ...\n",
      " $ date                                              : chr  \"2020-02-15\" \"2020-02-16\" \"2020-02-17\" \"2020-02-18\" ...\n",
      " $ retail_and_recreation_percent_change_from_baseline: int  0 1 -1 -2 -2 -2 -3 -2 -1 -3 ...\n",
      " $ grocery_and_pharmacy_percent_change_from_baseline : int  4 4 1 1 0 1 2 2 3 0 ...\n",
      " $ parks_percent_change_from_baseline                : int  5 4 5 5 4 6 6 4 3 5 ...\n",
      " $ transit_stations_percent_change_from_baseline     : int  0 1 1 0 -1 1 0 -2 -1 -1 ...\n",
      " $ workplaces_percent_change_from_baseline           : int  2 2 2 2 2 1 -1 3 4 3 ...\n",
      " $ residential_percent_change_from_baseline          : int  1 1 1 1 1 1 1 1 1 1 ...\n"
     ]
    }
   ],
   "source": [
    "str(dataset_global_mobility)"
   ]
  },
  {
   "cell_type": "code",
   "execution_count": 10,
   "id": "d6d7fd83-cd9c-4f11-ae6d-dd347cf6caae",
   "metadata": {
    "id": "d6d7fd83-cd9c-4f11-ae6d-dd347cf6caae"
   },
   "outputs": [
    {
     "data": {
      "text/plain": [
       " census_fips_code  retail_and_recreation_percent_change_from_baseline\n",
       " Min.   : 1001     Min.   :-100.0                                    \n",
       " 1st Qu.:18105     1st Qu.: -41.0                                    \n",
       " Median :29115     Median : -19.0                                    \n",
       " Mean   :30356     Mean   : -23.2                                    \n",
       " 3rd Qu.:45051     3rd Qu.:  -4.0                                    \n",
       " Max.   :56045     Max.   : 545.0                                    \n",
       " NA's   :3139208   NA's   :1478424                                   \n",
       " grocery_and_pharmacy_percent_change_from_baseline\n",
       " Min.   :-100                                     \n",
       " 1st Qu.: -14                                     \n",
       " Median :  -2                                     \n",
       " Mean   :  -3                                     \n",
       " 3rd Qu.:   9                                     \n",
       " Max.   : 615                                     \n",
       " NA's   :1564666                                  \n",
       " parks_percent_change_from_baseline\n",
       " Min.   :-100.0                    \n",
       " 1st Qu.: -44.0                    \n",
       " Median : -17.0                    \n",
       " Mean   :  -9.5                    \n",
       " 3rd Qu.:  11.0                    \n",
       " Max.   :1206.0                    \n",
       " NA's   :2080860                   \n",
       " transit_stations_percent_change_from_baseline\n",
       " Min.   :-100.0                               \n",
       " 1st Qu.: -48.0                               \n",
       " Median : -28.0                               \n",
       " Mean   : -27.2                               \n",
       " 3rd Qu.:  -7.0                               \n",
       " Max.   : 554.0                               \n",
       " NA's   :1973496                              \n",
       " workplaces_percent_change_from_baseline\n",
       " Min.   :-100.00                        \n",
       " 1st Qu.: -32.00                        \n",
       " Median : -19.00                        \n",
       " Mean   : -20.07                        \n",
       " 3rd Qu.:  -5.00                        \n",
       " Max.   : 260.00                        \n",
       " NA's   :189760                         \n",
       " residential_percent_change_from_baseline\n",
       " Min.   :-46.0                           \n",
       " 1st Qu.:  4.0                           \n",
       " Median :  8.0                           \n",
       " Mean   :  9.4                           \n",
       " 3rd Qu.: 14.0                           \n",
       " Max.   : 65.0                           \n",
       " NA's   :1678955                         "
      ]
     },
     "metadata": {},
     "output_type": "display_data"
    }
   ],
   "source": [
    "# Summary of the columns containing \"int\" data type\n",
    "summary(dataset_global_mobility[, c(\"census_fips_code\",\n",
    "                                      \"retail_and_recreation_percent_change_from_baseline\",\n",
    "                                      \"grocery_and_pharmacy_percent_change_from_baseline\",\n",
    "                                      \"parks_percent_change_from_baseline\",\n",
    "                                      \"transit_stations_percent_change_from_baseline\",\n",
    "                                      \"workplaces_percent_change_from_baseline\",\n",
    "                                      \"residential_percent_change_from_baseline\")])"
   ]
  },
  {
   "cell_type": "code",
   "execution_count": 12,
   "id": "a2231d4c-801c-4beb-b0ad-83f1740a2935",
   "metadata": {
    "id": "a2231d4c-801c-4beb-b0ad-83f1740a2935"
   },
   "outputs": [
    {
     "name": "stdout",
     "output_type": "stream",
     "text": [
      "country_region_code      country_region        sub_region_1        sub_region_2 \n",
      "                135                 135                1861                9916 \n",
      "         metro_area     iso_3166_2_code    census_fips_code \n",
      "                 66                2225                2838 \n"
     ]
    }
   ],
   "source": [
    "# Count of unique values in these columns\n",
    "columns_to_check <- c(\"country_region_code\", \"country_region\", \"sub_region_1\", \"sub_region_2\", \"metro_area\", \"iso_3166_2_code\", \"census_fips_code\")\n",
    "unique_counts <- sapply(dataset_global_mobility[, columns_to_check], function(column) length(unique(column)))\n",
    "print(unique_counts)"
   ]
  },
  {
   "cell_type": "markdown",
   "id": "10797257-11d6-49cf-8677-b8d013707f11",
   "metadata": {},
   "source": [
    "These are the counts of unique values in the respective feature columns. For example, there are 135 countries in the dataset."
   ]
  },
  {
   "cell_type": "markdown",
   "id": "28c95a7f-5ad3-42c8-a1fb-e3c5d53bc65f",
   "metadata": {
    "id": "28c95a7f-5ad3-42c8-a1fb-e3c5d53bc65f"
   },
   "source": [
    "## Missing values"
   ]
  },
  {
   "cell_type": "code",
   "execution_count": 14,
   "id": "56686628-a8f4-452d-860f-25d209cf0d84",
   "metadata": {
    "id": "56686628-a8f4-452d-860f-25d209cf0d84"
   },
   "outputs": [
    {
     "name": "stdout",
     "output_type": "stream",
     "text": [
      "                               country_region_code \n",
      "                                        0.06373695 \n",
      "                                    country_region \n",
      "                                        0.00000000 \n",
      "                                      sub_region_1 \n",
      "                                        0.00000000 \n",
      "                                      sub_region_2 \n",
      "                                        0.00000000 \n",
      "                                        metro_area \n",
      "                                        0.00000000 \n",
      "                                   iso_3166_2_code \n",
      "                                        0.00000000 \n",
      "                                  census_fips_code \n",
      "                                       78.64919746 \n",
      "                                              date \n",
      "                                        0.00000000 \n",
      "retail_and_recreation_percent_change_from_baseline \n",
      "                                       37.04019011 \n",
      " grocery_and_pharmacy_percent_change_from_baseline \n",
      "                                       39.20088290 \n",
      "                parks_percent_change_from_baseline \n",
      "                                       52.13352191 \n",
      "     transit_stations_percent_change_from_baseline \n",
      "                                       49.44364203 \n",
      "           workplaces_percent_change_from_baseline \n",
      "                                        4.75421562 \n",
      "          residential_percent_change_from_baseline \n",
      "                                       42.06426058 \n"
     ]
    }
   ],
   "source": [
    "# Compute the percentage of NA values for each column\n",
    "na_percentages_global_mobility <- sapply(dataset_global_mobility, function(column) {\n",
    "  sum(is.na(column)) / nrow(dataset_global_mobility) * 100\n",
    "})\n",
    "print(na_percentages_global_mobility)"
   ]
  },
  {
   "cell_type": "markdown",
   "id": "f95e159e-0073-44fd-897a-1eeec7dc434d",
   "metadata": {},
   "source": [
    "These are the percentage of missing values for each variable."
   ]
  },
  {
   "cell_type": "markdown",
   "id": "dd650271-37f5-461e-a307-f61ce90e7805",
   "metadata": {
    "id": "dd650271-37f5-461e-a307-f61ce90e7805"
   },
   "source": [
    "### Update \"date\" column with date type values"
   ]
  },
  {
   "cell_type": "code",
   "execution_count": 17,
   "id": "c62ff8fe-7e0a-4985-87ba-c5c8dee5a1e6",
   "metadata": {
    "id": "c62ff8fe-7e0a-4985-87ba-c5c8dee5a1e6"
   },
   "outputs": [],
   "source": [
    "# Convert the date column to Date type and extract year and month\n",
    "dataset_global_mobility <- dataset_global_mobility %>%\n",
    "  mutate(date = as.Date(date, format = \"%Y-%m-%d\")) %>%\n",
    "  mutate(year_month = format(date, \"%Y-%m\"))"
   ]
  },
  {
   "cell_type": "markdown",
   "id": "cb23b381-9023-439a-b01d-763294034b37",
   "metadata": {},
   "source": [
    "Creating new variable \"year_month\" that contains year and month based on the date on \"date\" variable."
   ]
  },
  {
   "cell_type": "code",
   "execution_count": 18,
   "id": "a643f53e-dc73-408d-a039-17cdba88947b",
   "metadata": {
    "id": "a643f53e-dc73-408d-a039-17cdba88947b"
   },
   "outputs": [
    {
     "data": {
      "text/html": [
       "<table class=\"dataframe\">\n",
       "<caption>A data.frame: 6 × 15</caption>\n",
       "<thead>\n",
       "\t<tr><th></th><th scope=col>country_region_code</th><th scope=col>country_region</th><th scope=col>sub_region_1</th><th scope=col>sub_region_2</th><th scope=col>metro_area</th><th scope=col>iso_3166_2_code</th><th scope=col>census_fips_code</th><th scope=col>date</th><th scope=col>retail_and_recreation_percent_change_from_baseline</th><th scope=col>grocery_and_pharmacy_percent_change_from_baseline</th><th scope=col>parks_percent_change_from_baseline</th><th scope=col>transit_stations_percent_change_from_baseline</th><th scope=col>workplaces_percent_change_from_baseline</th><th scope=col>residential_percent_change_from_baseline</th><th scope=col>year_month</th></tr>\n",
       "\t<tr><th></th><th scope=col>&lt;chr&gt;</th><th scope=col>&lt;chr&gt;</th><th scope=col>&lt;chr&gt;</th><th scope=col>&lt;chr&gt;</th><th scope=col>&lt;chr&gt;</th><th scope=col>&lt;chr&gt;</th><th scope=col>&lt;int&gt;</th><th scope=col>&lt;date&gt;</th><th scope=col>&lt;int&gt;</th><th scope=col>&lt;int&gt;</th><th scope=col>&lt;int&gt;</th><th scope=col>&lt;int&gt;</th><th scope=col>&lt;int&gt;</th><th scope=col>&lt;int&gt;</th><th scope=col>&lt;chr&gt;</th></tr>\n",
       "</thead>\n",
       "<tbody>\n",
       "\t<tr><th scope=row>1</th><td>AE</td><td>United Arab Emirates</td><td></td><td></td><td></td><td></td><td>NA</td><td>2020-02-15</td><td> 0</td><td>4</td><td>5</td><td> 0</td><td>2</td><td>1</td><td>2020-02</td></tr>\n",
       "\t<tr><th scope=row>2</th><td>AE</td><td>United Arab Emirates</td><td></td><td></td><td></td><td></td><td>NA</td><td>2020-02-16</td><td> 1</td><td>4</td><td>4</td><td> 1</td><td>2</td><td>1</td><td>2020-02</td></tr>\n",
       "\t<tr><th scope=row>3</th><td>AE</td><td>United Arab Emirates</td><td></td><td></td><td></td><td></td><td>NA</td><td>2020-02-17</td><td>-1</td><td>1</td><td>5</td><td> 1</td><td>2</td><td>1</td><td>2020-02</td></tr>\n",
       "\t<tr><th scope=row>4</th><td>AE</td><td>United Arab Emirates</td><td></td><td></td><td></td><td></td><td>NA</td><td>2020-02-18</td><td>-2</td><td>1</td><td>5</td><td> 0</td><td>2</td><td>1</td><td>2020-02</td></tr>\n",
       "\t<tr><th scope=row>5</th><td>AE</td><td>United Arab Emirates</td><td></td><td></td><td></td><td></td><td>NA</td><td>2020-02-19</td><td>-2</td><td>0</td><td>4</td><td>-1</td><td>2</td><td>1</td><td>2020-02</td></tr>\n",
       "\t<tr><th scope=row>6</th><td>AE</td><td>United Arab Emirates</td><td></td><td></td><td></td><td></td><td>NA</td><td>2020-02-20</td><td>-2</td><td>1</td><td>6</td><td> 1</td><td>1</td><td>1</td><td>2020-02</td></tr>\n",
       "</tbody>\n",
       "</table>\n"
      ],
      "text/latex": [
       "A data.frame: 6 × 15\n",
       "\\begin{tabular}{r|lllllllllllllll}\n",
       "  & country\\_region\\_code & country\\_region & sub\\_region\\_1 & sub\\_region\\_2 & metro\\_area & iso\\_3166\\_2\\_code & census\\_fips\\_code & date & retail\\_and\\_recreation\\_percent\\_change\\_from\\_baseline & grocery\\_and\\_pharmacy\\_percent\\_change\\_from\\_baseline & parks\\_percent\\_change\\_from\\_baseline & transit\\_stations\\_percent\\_change\\_from\\_baseline & workplaces\\_percent\\_change\\_from\\_baseline & residential\\_percent\\_change\\_from\\_baseline & year\\_month\\\\\n",
       "  & <chr> & <chr> & <chr> & <chr> & <chr> & <chr> & <int> & <date> & <int> & <int> & <int> & <int> & <int> & <int> & <chr>\\\\\n",
       "\\hline\n",
       "\t1 & AE & United Arab Emirates &  &  &  &  & NA & 2020-02-15 &  0 & 4 & 5 &  0 & 2 & 1 & 2020-02\\\\\n",
       "\t2 & AE & United Arab Emirates &  &  &  &  & NA & 2020-02-16 &  1 & 4 & 4 &  1 & 2 & 1 & 2020-02\\\\\n",
       "\t3 & AE & United Arab Emirates &  &  &  &  & NA & 2020-02-17 & -1 & 1 & 5 &  1 & 2 & 1 & 2020-02\\\\\n",
       "\t4 & AE & United Arab Emirates &  &  &  &  & NA & 2020-02-18 & -2 & 1 & 5 &  0 & 2 & 1 & 2020-02\\\\\n",
       "\t5 & AE & United Arab Emirates &  &  &  &  & NA & 2020-02-19 & -2 & 0 & 4 & -1 & 2 & 1 & 2020-02\\\\\n",
       "\t6 & AE & United Arab Emirates &  &  &  &  & NA & 2020-02-20 & -2 & 1 & 6 &  1 & 1 & 1 & 2020-02\\\\\n",
       "\\end{tabular}\n"
      ],
      "text/markdown": [
       "\n",
       "A data.frame: 6 × 15\n",
       "\n",
       "| <!--/--> | country_region_code &lt;chr&gt; | country_region &lt;chr&gt; | sub_region_1 &lt;chr&gt; | sub_region_2 &lt;chr&gt; | metro_area &lt;chr&gt; | iso_3166_2_code &lt;chr&gt; | census_fips_code &lt;int&gt; | date &lt;date&gt; | retail_and_recreation_percent_change_from_baseline &lt;int&gt; | grocery_and_pharmacy_percent_change_from_baseline &lt;int&gt; | parks_percent_change_from_baseline &lt;int&gt; | transit_stations_percent_change_from_baseline &lt;int&gt; | workplaces_percent_change_from_baseline &lt;int&gt; | residential_percent_change_from_baseline &lt;int&gt; | year_month &lt;chr&gt; |\n",
       "|---|---|---|---|---|---|---|---|---|---|---|---|---|---|---|---|\n",
       "| 1 | AE | United Arab Emirates | <!----> | <!----> | <!----> | <!----> | NA | 2020-02-15 |  0 | 4 | 5 |  0 | 2 | 1 | 2020-02 |\n",
       "| 2 | AE | United Arab Emirates | <!----> | <!----> | <!----> | <!----> | NA | 2020-02-16 |  1 | 4 | 4 |  1 | 2 | 1 | 2020-02 |\n",
       "| 3 | AE | United Arab Emirates | <!----> | <!----> | <!----> | <!----> | NA | 2020-02-17 | -1 | 1 | 5 |  1 | 2 | 1 | 2020-02 |\n",
       "| 4 | AE | United Arab Emirates | <!----> | <!----> | <!----> | <!----> | NA | 2020-02-18 | -2 | 1 | 5 |  0 | 2 | 1 | 2020-02 |\n",
       "| 5 | AE | United Arab Emirates | <!----> | <!----> | <!----> | <!----> | NA | 2020-02-19 | -2 | 0 | 4 | -1 | 2 | 1 | 2020-02 |\n",
       "| 6 | AE | United Arab Emirates | <!----> | <!----> | <!----> | <!----> | NA | 2020-02-20 | -2 | 1 | 6 |  1 | 1 | 1 | 2020-02 |\n",
       "\n"
      ],
      "text/plain": [
       "  country_region_code country_region       sub_region_1 sub_region_2 metro_area\n",
       "1 AE                  United Arab Emirates                                     \n",
       "2 AE                  United Arab Emirates                                     \n",
       "3 AE                  United Arab Emirates                                     \n",
       "4 AE                  United Arab Emirates                                     \n",
       "5 AE                  United Arab Emirates                                     \n",
       "6 AE                  United Arab Emirates                                     \n",
       "  iso_3166_2_code census_fips_code date      \n",
       "1                 NA               2020-02-15\n",
       "2                 NA               2020-02-16\n",
       "3                 NA               2020-02-17\n",
       "4                 NA               2020-02-18\n",
       "5                 NA               2020-02-19\n",
       "6                 NA               2020-02-20\n",
       "  retail_and_recreation_percent_change_from_baseline\n",
       "1  0                                                \n",
       "2  1                                                \n",
       "3 -1                                                \n",
       "4 -2                                                \n",
       "5 -2                                                \n",
       "6 -2                                                \n",
       "  grocery_and_pharmacy_percent_change_from_baseline\n",
       "1 4                                                \n",
       "2 4                                                \n",
       "3 1                                                \n",
       "4 1                                                \n",
       "5 0                                                \n",
       "6 1                                                \n",
       "  parks_percent_change_from_baseline\n",
       "1 5                                 \n",
       "2 4                                 \n",
       "3 5                                 \n",
       "4 5                                 \n",
       "5 4                                 \n",
       "6 6                                 \n",
       "  transit_stations_percent_change_from_baseline\n",
       "1  0                                           \n",
       "2  1                                           \n",
       "3  1                                           \n",
       "4  0                                           \n",
       "5 -1                                           \n",
       "6  1                                           \n",
       "  workplaces_percent_change_from_baseline\n",
       "1 2                                      \n",
       "2 2                                      \n",
       "3 2                                      \n",
       "4 2                                      \n",
       "5 2                                      \n",
       "6 1                                      \n",
       "  residential_percent_change_from_baseline year_month\n",
       "1 1                                        2020-02   \n",
       "2 1                                        2020-02   \n",
       "3 1                                        2020-02   \n",
       "4 1                                        2020-02   \n",
       "5 1                                        2020-02   \n",
       "6 1                                        2020-02   "
      ]
     },
     "metadata": {},
     "output_type": "display_data"
    }
   ],
   "source": [
    "head(dataset_global_mobility)"
   ]
  },
  {
   "cell_type": "code",
   "execution_count": 19,
   "id": "5ab19c8b-b6ca-4e98-83f2-303b65585dbb",
   "metadata": {
    "id": "5ab19c8b-b6ca-4e98-83f2-303b65585dbb"
   },
   "outputs": [
    {
     "data": {
      "text/html": [
       "<style>\n",
       ".list-inline {list-style: none; margin:0; padding: 0}\n",
       ".list-inline>li {display: inline-block}\n",
       ".list-inline>li:not(:last-child)::after {content: \"\\00b7\"; padding: 0 .5ex}\n",
       "</style>\n",
       "<ol class=list-inline><li>'country_region'</li><li>'iso_3166_2_code'</li><li>'census_fips_code'</li><li>'retail_and_recreation_percent_change_from_baseline'</li><li>'grocery_and_pharmacy_percent_change_from_baseline'</li><li>'parks_percent_change_from_baseline'</li><li>'transit_stations_percent_change_from_baseline'</li><li>'workplaces_percent_change_from_baseline'</li><li>'residential_percent_change_from_baseline'</li><li>'year_month'</li></ol>\n"
      ],
      "text/latex": [
       "\\begin{enumerate*}\n",
       "\\item 'country\\_region'\n",
       "\\item 'iso\\_3166\\_2\\_code'\n",
       "\\item 'census\\_fips\\_code'\n",
       "\\item 'retail\\_and\\_recreation\\_percent\\_change\\_from\\_baseline'\n",
       "\\item 'grocery\\_and\\_pharmacy\\_percent\\_change\\_from\\_baseline'\n",
       "\\item 'parks\\_percent\\_change\\_from\\_baseline'\n",
       "\\item 'transit\\_stations\\_percent\\_change\\_from\\_baseline'\n",
       "\\item 'workplaces\\_percent\\_change\\_from\\_baseline'\n",
       "\\item 'residential\\_percent\\_change\\_from\\_baseline'\n",
       "\\item 'year\\_month'\n",
       "\\end{enumerate*}\n"
      ],
      "text/markdown": [
       "1. 'country_region'\n",
       "2. 'iso_3166_2_code'\n",
       "3. 'census_fips_code'\n",
       "4. 'retail_and_recreation_percent_change_from_baseline'\n",
       "5. 'grocery_and_pharmacy_percent_change_from_baseline'\n",
       "6. 'parks_percent_change_from_baseline'\n",
       "7. 'transit_stations_percent_change_from_baseline'\n",
       "8. 'workplaces_percent_change_from_baseline'\n",
       "9. 'residential_percent_change_from_baseline'\n",
       "10. 'year_month'\n",
       "\n",
       "\n"
      ],
      "text/plain": [
       " [1] \"country_region\"                                    \n",
       " [2] \"iso_3166_2_code\"                                   \n",
       " [3] \"census_fips_code\"                                  \n",
       " [4] \"retail_and_recreation_percent_change_from_baseline\"\n",
       " [5] \"grocery_and_pharmacy_percent_change_from_baseline\" \n",
       " [6] \"parks_percent_change_from_baseline\"                \n",
       " [7] \"transit_stations_percent_change_from_baseline\"     \n",
       " [8] \"workplaces_percent_change_from_baseline\"           \n",
       " [9] \"residential_percent_change_from_baseline\"          \n",
       "[10] \"year_month\"                                        "
      ]
     },
     "metadata": {},
     "output_type": "display_data"
    }
   ],
   "source": [
    "# Drop irrelevant columns\n",
    "dataset_global_mobility <- dataset_global_mobility %>%\n",
    "  select(-country_region_code, -metro_area, -sub_region_1, -sub_region_2, -date)\n",
    "\n",
    "# Remaining feature columns\n",
    "names(dataset_global_mobility)"
   ]
  },
  {
   "cell_type": "markdown",
   "id": "418e7205-6201-4724-8f53-9f4259a2e2f2",
   "metadata": {},
   "source": [
    "We are interested more in larger geographic regions so our focus is limited to country and US states. Thus, all other variables related to geographies are dropped from the dataset."
   ]
  },
  {
   "cell_type": "code",
   "execution_count": 20,
   "id": "5da578dc-0e2a-4a17-97dc-e1559bca64b8",
   "metadata": {
    "id": "5da578dc-0e2a-4a17-97dc-e1559bca64b8"
   },
   "outputs": [
    {
     "name": "stdout",
     "output_type": "stream",
     "text": [
      "                                                                                               Column\n",
      "country_region                                                                         country_region\n",
      "iso_3166_2_code                                                                       iso_3166_2_code\n",
      "census_fips_code                                                                     census_fips_code\n",
      "retail_and_recreation_percent_change_from_baseline retail_and_recreation_percent_change_from_baseline\n",
      "grocery_and_pharmacy_percent_change_from_baseline   grocery_and_pharmacy_percent_change_from_baseline\n",
      "parks_percent_change_from_baseline                                 parks_percent_change_from_baseline\n",
      "transit_stations_percent_change_from_baseline           transit_stations_percent_change_from_baseline\n",
      "workplaces_percent_change_from_baseline                       workplaces_percent_change_from_baseline\n",
      "residential_percent_change_from_baseline                     residential_percent_change_from_baseline\n",
      "year_month                                                                                 year_month\n",
      "                                                   Missing_Values\n",
      "country_region                                               0.00\n",
      "iso_3166_2_code                                              0.00\n",
      "census_fips_code                                            78.65\n",
      "retail_and_recreation_percent_change_from_baseline          37.04\n",
      "grocery_and_pharmacy_percent_change_from_baseline           39.20\n",
      "parks_percent_change_from_baseline                          52.13\n",
      "transit_stations_percent_change_from_baseline               49.44\n",
      "workplaces_percent_change_from_baseline                      4.75\n",
      "residential_percent_change_from_baseline                    42.06\n",
      "year_month                                                   0.00\n"
     ]
    }
   ],
   "source": [
    "# Checking for missing values in the dataset\n",
    "na_counts <- colSums(is.na(dataset_global_mobility))\n",
    "\n",
    "na_summary <- data.frame(\n",
    "  Column = names((na_counts / 3991405) * 100),\n",
    "  Missing_Values = round(((na_counts / 3991405) * 100),2),\n",
    "  stringsAsFactors = FALSE\n",
    ")\n",
    "\n",
    "print(na_summary)"
   ]
  },
  {
   "cell_type": "code",
   "execution_count": 22,
   "id": "0741f997-5ff8-44f8-aea8-97a074d60174",
   "metadata": {
    "id": "0741f997-5ff8-44f8-aea8-97a074d60174"
   },
   "outputs": [
    {
     "data": {
      "text/plain": [
       " retail_and_recreation_percent_change_from_baseline\n",
       " Min.   :-100.0                                    \n",
       " 1st Qu.: -41.0                                    \n",
       " Median : -19.0                                    \n",
       " Mean   : -23.2                                    \n",
       " 3rd Qu.:  -4.0                                    \n",
       " Max.   : 545.0                                    \n",
       " NA's   :1478424                                   \n",
       " grocery_and_pharmacy_percent_change_from_baseline\n",
       " Min.   :-100                                     \n",
       " 1st Qu.: -14                                     \n",
       " Median :  -2                                     \n",
       " Mean   :  -3                                     \n",
       " 3rd Qu.:   9                                     \n",
       " Max.   : 615                                     \n",
       " NA's   :1564666                                  \n",
       " parks_percent_change_from_baseline\n",
       " Min.   :-100.0                    \n",
       " 1st Qu.: -44.0                    \n",
       " Median : -17.0                    \n",
       " Mean   :  -9.5                    \n",
       " 3rd Qu.:  11.0                    \n",
       " Max.   :1206.0                    \n",
       " NA's   :2080860                   \n",
       " transit_stations_percent_change_from_baseline\n",
       " Min.   :-100.0                               \n",
       " 1st Qu.: -48.0                               \n",
       " Median : -28.0                               \n",
       " Mean   : -27.2                               \n",
       " 3rd Qu.:  -7.0                               \n",
       " Max.   : 554.0                               \n",
       " NA's   :1973496                              \n",
       " workplaces_percent_change_from_baseline\n",
       " Min.   :-100.00                        \n",
       " 1st Qu.: -32.00                        \n",
       " Median : -19.00                        \n",
       " Mean   : -20.07                        \n",
       " 3rd Qu.:  -5.00                        \n",
       " Max.   : 260.00                        \n",
       " NA's   :189760                         \n",
       " residential_percent_change_from_baseline\n",
       " Min.   :-46.0                           \n",
       " 1st Qu.:  4.0                           \n",
       " Median :  8.0                           \n",
       " Mean   :  9.4                           \n",
       " 3rd Qu.: 14.0                           \n",
       " Max.   : 65.0                           \n",
       " NA's   :1678955                         "
      ]
     },
     "metadata": {},
     "output_type": "display_data"
    }
   ],
   "source": [
    "# Statistics of the remaining feature columns\n",
    "summary(dataset_global_mobility %>% select(retail_and_recreation_percent_change_from_baseline,\n",
    "                                            grocery_and_pharmacy_percent_change_from_baseline,\n",
    "                                            parks_percent_change_from_baseline,\n",
    "                                            transit_stations_percent_change_from_baseline,\n",
    "                                            workplaces_percent_change_from_baseline,\n",
    "                                            residential_percent_change_from_baseline))\n"
   ]
  },
  {
   "cell_type": "markdown",
   "id": "0fdb302d-4d08-4d99-9ad0-383acb80c566",
   "metadata": {},
   "source": [
    "Here is a quick basic statistics on the variables of the updated dataset."
   ]
  },
  {
   "cell_type": "markdown",
   "id": "86929084-c789-4c70-9f85-22e83748bfe7",
   "metadata": {
    "id": "86929084-c789-4c70-9f85-22e83748bfe7"
   },
   "source": [
    "## Feature processing \"grocery_and_pharmacy_percent_change_from_baseline\""
   ]
  },
  {
   "cell_type": "code",
   "execution_count": 24,
   "id": "e472b3f7-aa10-46fd-b159-8ae43eedb397",
   "metadata": {
    "id": "e472b3f7-aa10-46fd-b159-8ae43eedb397"
   },
   "outputs": [],
   "source": [
    "# Replace missing values in retail_and_recreation_percent_change_from_baseline with the corresponding average value for the corresponding\n",
    "# region within the \"iso_3166_2_code\" feature column only if the average value is available\n",
    "dataset_global_mobility <- dataset_global_mobility %>%\n",
    "\n",
    "    #group the dataset by this column\n",
    "    group_by(iso_3166_2_code) %>%\n",
    "\n",
    "    #create updated version of the feature column\n",
    "    mutate(retail_and_recreation_percent_change_from_baseline =\n",
    "\n",
    "           # if there is missing value, replace it with mean of that group only if it's available\n",
    "           ifelse(is.na(retail_and_recreation_percent_change_from_baseline),\n",
    "                  {\n",
    "                    avg_value <- mean(retail_and_recreation_percent_change_from_baseline, na.rm = TRUE)\n",
    "                    if (!is.na(avg_value)) avg_value   #if there is average value\n",
    "                    else NA\n",
    "                  },\n",
    "                  retail_and_recreation_percent_change_from_baseline)) %>%\n",
    "\n",
    "    # Ungroup after mutation\n",
    "    ungroup()\n"
   ]
  },
  {
   "cell_type": "code",
   "execution_count": 26,
   "id": "c490e3d3-e96b-478a-9bfd-72ffe11d6310",
   "metadata": {
    "id": "c490e3d3-e96b-478a-9bfd-72ffe11d6310"
   },
   "outputs": [
    {
     "data": {
      "text/html": [
       "0"
      ],
      "text/latex": [
       "0"
      ],
      "text/markdown": [
       "0"
      ],
      "text/plain": [
       "[1] 0"
      ]
     },
     "metadata": {},
     "output_type": "display_data"
    }
   ],
   "source": [
    "dataset_global_mobility <- dataset_global_mobility %>%\n",
    "  filter(!is.na(retail_and_recreation_percent_change_from_baseline))\n",
    "\n",
    "# Checking for missing values\n",
    "sum(is.na(dataset_global_mobility$retail_and_recreation_percent_change_from_baseline))"
   ]
  },
  {
   "cell_type": "markdown",
   "id": "155c802e-54c8-4719-90c4-e516cf043092",
   "metadata": {
    "id": "155c802e-54c8-4719-90c4-e516cf043092"
   },
   "source": [
    "## Feature processing \"grocery_and_pharmacy_percent_change_from_baseline\""
   ]
  },
  {
   "cell_type": "code",
   "execution_count": 28,
   "id": "d59c6d44-197e-4eed-b4f0-c83fa7f4b570",
   "metadata": {
    "id": "d59c6d44-197e-4eed-b4f0-c83fa7f4b570"
   },
   "outputs": [],
   "source": [
    "# Replace missing values in \"grocery_and_pharmacy_percent_change_from_baseline\" with the corresponding average value for the corresponding\n",
    "# region within the \"iso_3166_2_code\" feature column only if the average value is available\n",
    "dataset_global_mobility <- dataset_global_mobility %>%\n",
    "\n",
    "    #group the dataset by this column\n",
    "    group_by(iso_3166_2_code) %>%\n",
    "\n",
    "    #create updated version of the feature column\n",
    "    mutate(grocery_and_pharmacy_percent_change_from_baseline =\n",
    "\n",
    "           # if there is missing value, replace it with mean of that group only if it's available\n",
    "           ifelse(is.na(grocery_and_pharmacy_percent_change_from_baseline),\n",
    "                  {\n",
    "                    avg_value <- mean(grocery_and_pharmacy_percent_change_from_baseline, na.rm = TRUE)\n",
    "                    if (!is.na(avg_value)) avg_value   #if there is average value\n",
    "                    else NA\n",
    "                  },\n",
    "                  grocery_and_pharmacy_percent_change_from_baseline)) %>%\n",
    "\n",
    "    # Ungroup after mutation\n",
    "    ungroup()"
   ]
  },
  {
   "cell_type": "code",
   "execution_count": 30,
   "id": "5aba1c18-f3b5-48e8-a141-5ef367b63206",
   "metadata": {
    "id": "5aba1c18-f3b5-48e8-a141-5ef367b63206"
   },
   "outputs": [
    {
     "data": {
      "text/html": [
       "0"
      ],
      "text/latex": [
       "0"
      ],
      "text/markdown": [
       "0"
      ],
      "text/plain": [
       "[1] 0"
      ]
     },
     "metadata": {},
     "output_type": "display_data"
    }
   ],
   "source": [
    "dataset_global_mobility <- dataset_global_mobility %>%\n",
    "  filter(!is.na(grocery_and_pharmacy_percent_change_from_baseline))\n",
    "\n",
    "# Checking for missing values\n",
    "sum(is.na(dataset_global_mobility$grocery_and_pharmacy_percent_change_from_baseline))"
   ]
  },
  {
   "cell_type": "markdown",
   "id": "19ee92bc-f55a-4634-a64b-57750565e7a4",
   "metadata": {
    "id": "19ee92bc-f55a-4634-a64b-57750565e7a4"
   },
   "source": [
    "## Feature processing \"parks_percent_change_from_baseline\""
   ]
  },
  {
   "cell_type": "code",
   "execution_count": 33,
   "id": "631235a5-d3c0-4911-abdc-288ccc340cd9",
   "metadata": {
    "id": "631235a5-d3c0-4911-abdc-288ccc340cd9"
   },
   "outputs": [
    {
     "data": {
      "text/html": [
       "0"
      ],
      "text/latex": [
       "0"
      ],
      "text/markdown": [
       "0"
      ],
      "text/plain": [
       "[1] 0"
      ]
     },
     "metadata": {},
     "output_type": "display_data"
    }
   ],
   "source": [
    "# Replace missing values in \"parks_percent_change_from_baseline\" with the corresponding average value for the corresponding\n",
    "# region within the \"iso_3166_2_code\" feature column only if the average value is available\n",
    "dataset_global_mobility <- dataset_global_mobility %>%\n",
    "\n",
    "    #group the dataset by this column\n",
    "    group_by(iso_3166_2_code) %>%\n",
    "\n",
    "    #create updated version of the feature column\n",
    "    mutate(parks_percent_change_from_baseline =\n",
    "\n",
    "           # if there is missing value, replace it with mean of that group only if it's available\n",
    "           ifelse(is.na(parks_percent_change_from_baseline),\n",
    "                  {\n",
    "                    avg_value <- mean(parks_percent_change_from_baseline, na.rm = TRUE)\n",
    "                    if (!is.na(avg_value)) avg_value   #if there is average value\n",
    "                    else NA\n",
    "                  },\n",
    "                  parks_percent_change_from_baseline)) %>%\n",
    "\n",
    "    # Ungroup after mutation\n",
    "    ungroup()\n",
    "\n",
    "dataset_global_mobility <- dataset_global_mobility %>%\n",
    "  filter(!is.na(parks_percent_change_from_baseline))\n",
    "\n",
    "# Checking for missing values\n",
    "sum(is.na(dataset_global_mobility$parks_percent_change_from_baseline))"
   ]
  },
  {
   "cell_type": "markdown",
   "id": "88e410cf-15f3-463f-b347-385ea1285fdf",
   "metadata": {
    "id": "88e410cf-15f3-463f-b347-385ea1285fdf"
   },
   "source": [
    "## Feature processing \"transit_stations_percent_change_from_baseline\""
   ]
  },
  {
   "cell_type": "code",
   "execution_count": 35,
   "id": "3f3c4f42-a338-4bb8-83ac-8f67f0471649",
   "metadata": {
    "id": "3f3c4f42-a338-4bb8-83ac-8f67f0471649"
   },
   "outputs": [
    {
     "data": {
      "text/html": [
       "0"
      ],
      "text/latex": [
       "0"
      ],
      "text/markdown": [
       "0"
      ],
      "text/plain": [
       "[1] 0"
      ]
     },
     "metadata": {},
     "output_type": "display_data"
    }
   ],
   "source": [
    "# Replace missing values in \"transit_stations_percent_change_from_baseline\" with the corresponding average value for the corresponding\n",
    "# region within the \"iso_3166_2_code\" feature column only if the average value is available\n",
    "dataset_global_mobility <- dataset_global_mobility %>%\n",
    "\n",
    "    #group the dataset by this column\n",
    "    group_by(iso_3166_2_code) %>%\n",
    "\n",
    "    #create updated version of the feature column\n",
    "    mutate(transit_stations_percent_change_from_baseline =\n",
    "\n",
    "           # if there is missing value, replace it with mean of that group only if it's available\n",
    "           ifelse(is.na(transit_stations_percent_change_from_baseline),\n",
    "                  {\n",
    "                    avg_value <- mean(transit_stations_percent_change_from_baseline, na.rm = TRUE)\n",
    "                    if (!is.na(avg_value)) avg_value   #if there is average value\n",
    "                    else NA\n",
    "                  },\n",
    "                  transit_stations_percent_change_from_baseline)) %>%\n",
    "\n",
    "    # Ungroup after mutation\n",
    "    ungroup()\n",
    "\n",
    "dataset_global_mobility <- dataset_global_mobility %>%\n",
    "  filter(!is.na(transit_stations_percent_change_from_baseline))\n",
    "\n",
    "# Checking for missing values\n",
    "sum(is.na(dataset_global_mobility$transit_stations_percent_change_from_baseline))"
   ]
  },
  {
   "cell_type": "markdown",
   "id": "81e01b5c-a1ab-4a04-aad1-c79075700cf2",
   "metadata": {
    "id": "81e01b5c-a1ab-4a04-aad1-c79075700cf2"
   },
   "source": [
    "## Feature processing \"residential_percent_change_from_baseline\""
   ]
  },
  {
   "cell_type": "code",
   "execution_count": 38,
   "id": "333fff47-4d01-44d7-9752-699acb2eff43",
   "metadata": {
    "id": "333fff47-4d01-44d7-9752-699acb2eff43"
   },
   "outputs": [
    {
     "data": {
      "text/html": [
       "0"
      ],
      "text/latex": [
       "0"
      ],
      "text/markdown": [
       "0"
      ],
      "text/plain": [
       "[1] 0"
      ]
     },
     "metadata": {},
     "output_type": "display_data"
    }
   ],
   "source": [
    "# Replace missing values in \"residential_percent_change_from_baseline\" with the corresponding average value for the corresponding\n",
    "# region within the \"iso_3166_2_code\" feature column only if the average value is available\n",
    "dataset_global_mobility <- dataset_global_mobility %>%\n",
    "\n",
    "    #group the dataset by this column\n",
    "    group_by(iso_3166_2_code) %>%\n",
    "\n",
    "    #create updated version of the feature column\n",
    "    mutate(residential_percent_change_from_baseline =\n",
    "\n",
    "           # if there is missing value, replace it with mean of that group only if it's available\n",
    "           ifelse(is.na(residential_percent_change_from_baseline),\n",
    "                  {\n",
    "                    avg_value <- mean(residential_percent_change_from_baseline, na.rm = TRUE)\n",
    "                    if (!is.na(avg_value)) avg_value   #if there is average value\n",
    "                    else NA\n",
    "                  },\n",
    "                  residential_percent_change_from_baseline)) %>%\n",
    "\n",
    "    # Ungroup after mutation\n",
    "    ungroup()\n",
    "\n",
    "dataset_global_mobility <- dataset_global_mobility %>%\n",
    "  filter(!is.na(residential_percent_change_from_baseline))\n",
    "\n",
    "# Checking for missing values\n",
    "sum(is.na(dataset_global_mobility$residential_percent_change_from_baseline))"
   ]
  },
  {
   "cell_type": "markdown",
   "id": "97db5798-41f6-48ae-8a8f-92efce2069dc",
   "metadata": {
    "id": "97db5798-41f6-48ae-8a8f-92efce2069dc"
   },
   "source": [
    "## Feature processing \"census_fips_code\""
   ]
  },
  {
   "cell_type": "code",
   "execution_count": 42,
   "id": "682a49c5-b8e4-49c4-b860-808bb8a39417",
   "metadata": {
    "id": "682a49c5-b8e4-49c4-b860-808bb8a39417"
   },
   "outputs": [
    {
     "name": "stdout",
     "output_type": "stream",
     "text": [
      "[1] \"Percentage of NA values in census_fips_code for countries other than the United States: 70.47 %\"\n"
     ]
    },
    {
     "name": "stderr",
     "output_type": "stream",
     "text": [
      "Warning message:\n",
      "“Unknown or uninitialised column: `NA_count`.”\n"
     ]
    },
    {
     "name": "stdout",
     "output_type": "stream",
     "text": [
      "[1] \"Count of NA values in census_fips_code for United States: \"\n"
     ]
    }
   ],
   "source": [
    "# Count NA values in \"census_fips_code\" for countries other than the United States\n",
    "na_count_non_us <- dataset_global_mobility %>%\n",
    "  filter(country_region != \"United States\") %>%\n",
    "  summarise(NA_Count = sum(is.na(census_fips_code)))\n",
    "\n",
    "# Calculate the percentage of NA values\n",
    "na_percentage_non_us <- (na_count_non_us$NA_Count / 3991405) * 100\n",
    "\n",
    "# Print the result\n",
    "print(paste(\"Percentage of NA values in census_fips_code for countries other than the United States:\", round(na_percentage_non_us, 2), \"%\"))\n",
    "\n",
    "# Check: Count of NA values for United States in census_fips_code column\n",
    "na_count_us <- dataset_global_mobility %>%\n",
    "  filter(country_region == \"United States\") %>%\n",
    "  summarise(NA_Count = sum(is.na(census_fips_code)))\n",
    "\n",
    "print(paste(\"Count of NA values in census_fips_code for United States:\", na_count_us$NA_count))"
   ]
  },
  {
   "cell_type": "code",
   "execution_count": 44,
   "id": "e22fb825-e5e8-48f8-bd16-82728ccd42b9",
   "metadata": {
    "id": "e22fb825-e5e8-48f8-bd16-82728ccd42b9"
   },
   "outputs": [],
   "source": [
    "# Identify the unique countries other than the United States\n",
    "unique_countries <- dataset_global_mobility %>%\n",
    "  filter(country_region != \"United States\") %>%\n",
    "  distinct(country_region) %>%\n",
    "  pull(country_region)\n",
    "\n",
    "# Create a mapping of these countries to unique dummy numbers\n",
    "country_dummy_mapping <- data.frame(\n",
    "  country_region = unique_countries,\n",
    "  dummy_fips_code = 1:length(unique_countries)\n",
    ")\n",
    "\n",
    "# Update the census_fips_code column with these dummy numbers for the corresponding countries\n",
    "dataset_global_mobility <- dataset_global_mobility %>%\n",
    "  left_join(country_dummy_mapping, by = \"country_region\") %>%\n",
    "  mutate(census_fips_code = ifelse(country_region != \"United States\" & is.na(census_fips_code),\n",
    "                                   dummy_fips_code, census_fips_code)) %>%\n",
    "  select(-dummy_fips_code) # Remove the temporary dummy_fips_code column\n"
   ]
  },
  {
   "cell_type": "markdown",
   "id": "d17845d1-e0a5-4fa1-af21-bd241e327cc8",
   "metadata": {},
   "source": [
    "There are no missing values in the census_fips_code feature column. Also we can see that the census fips code are only on the observations made on the USA."
   ]
  },
  {
   "cell_type": "code",
   "execution_count": 46,
   "id": "2b4beee9-9ff6-4c20-a147-5ad3c5e366c3",
   "metadata": {
    "id": "2b4beee9-9ff6-4c20-a147-5ad3c5e366c3"
   },
   "outputs": [
    {
     "name": "stdout",
     "output_type": "stream",
     "text": [
      "            country_region dummy_fips_code\n",
      "1     United Arab Emirates               1\n",
      "2              Afghanistan               2\n",
      "3      Antigua and Barbuda               3\n",
      "4                   Angola               4\n",
      "5                Argentina               5\n",
      "6                  Austria               6\n",
      "7                Australia               7\n",
      "8                    Aruba               8\n",
      "9   Bosnia and Herzegovina               9\n",
      "10                Barbados              10\n",
      "11              Bangladesh              11\n",
      "12                 Belgium              12\n",
      "13            Burkina Faso              13\n",
      "14                Bulgaria              14\n",
      "15                 Bahrain              15\n",
      "16                   Benin              16\n",
      "17                 Bolivia              17\n",
      "18                  Brazil              18\n",
      "19             The Bahamas              19\n",
      "20                Botswana              20\n",
      "21                 Belarus              21\n",
      "22                  Belize              22\n",
      "23                  Canada              23\n",
      "24             Switzerland              24\n",
      "25           Côte d'Ivoire              25\n",
      "26                   Chile              26\n",
      "27                Cameroon              27\n",
      "28                Colombia              28\n",
      "29              Costa Rica              29\n",
      "30              Cape Verde              30\n",
      "31                 Czechia              31\n",
      "32                 Germany              32\n",
      "33                 Denmark              33\n",
      "34      Dominican Republic              34\n",
      "35                 Ecuador              35\n",
      "36                 Estonia              36\n",
      "37                   Egypt              37\n",
      "38                   Spain              38\n",
      "39                 Finland              39\n",
      "40                    Fiji              40\n",
      "41                  France              41\n",
      "42                   Gabon              42\n",
      "43          United Kingdom              43\n",
      "44                 Georgia              44\n",
      "45                   Ghana              45\n",
      "46                  Greece              46\n",
      "47               Guatemala              47\n",
      "48           Guinea-Bissau              48\n",
      "49               Hong Kong              49\n",
      "50                Honduras              50\n",
      "51                 Croatia              51\n",
      "52                   Haiti              52\n",
      "53                 Hungary              53\n",
      "54               Indonesia              54\n",
      "55                 Ireland              55\n",
      "56                  Israel              56\n",
      "57                   India              57\n",
      "58                    Iraq              58\n",
      "59                   Italy              59\n",
      "60                 Jamaica              60\n",
      "61                  Jordan              61\n",
      "62                   Japan              62\n",
      "63                   Kenya              63\n",
      "64              Kyrgyzstan              64\n",
      "65                Cambodia              65\n",
      "66             South Korea              66\n",
      "67                  Kuwait              67\n",
      "68              Kazakhstan              68\n",
      "69                    Laos              69\n",
      "70                 Lebanon              70\n",
      "71           Liechtenstein              71\n",
      "72               Sri Lanka              72\n",
      "73               Lithuania              73\n",
      "74              Luxembourg              74\n",
      "75                  Latvia              75\n",
      "76                   Libya              76\n",
      "77                 Morocco              77\n",
      "78                 Moldova              78\n",
      "79         North Macedonia              79\n",
      "80                    Mali              80\n",
      "81         Myanmar (Burma)              81\n",
      "82                Mongolia              82\n",
      "83                   Malta              83\n",
      "84               Mauritius              84\n",
      "85                  Mexico              85\n",
      "86                Malaysia              86\n",
      "87              Mozambique              87\n",
      "88                 Namibia              88\n",
      "89                   Niger              89\n",
      "90                 Nigeria              90\n",
      "91               Nicaragua              91\n",
      "92             Netherlands              92\n",
      "93                  Norway              93\n",
      "94                   Nepal              94\n",
      "95             New Zealand              95\n",
      "96                    Oman              96\n",
      "97                  Panama              97\n",
      "98                    Peru              98\n",
      "99        Papua New Guinea              99\n",
      "100            Philippines             100\n",
      "101               Pakistan             101\n",
      "102                 Poland             102\n",
      "103            Puerto Rico             103\n",
      "104               Portugal             104\n",
      "105               Paraguay             105\n",
      "106                  Qatar             106\n",
      "107                Réunion             107\n",
      "108                Romania             108\n",
      "109                 Serbia             109\n",
      "110                 Russia             110\n",
      "111                 Rwanda             111\n",
      "112           Saudi Arabia             112\n",
      "113                 Sweden             113\n",
      "114              Singapore             114\n",
      "115               Slovenia             115\n",
      "116               Slovakia             116\n",
      "117                Senegal             117\n",
      "118            El Salvador             118\n",
      "119                   Togo             119\n",
      "120               Thailand             120\n",
      "121             Tajikistan             121\n",
      "122                 Turkey             122\n",
      "123    Trinidad and Tobago             123\n",
      "124                 Taiwan             124\n",
      "125               Tanzania             125\n",
      "126                Ukraine             126\n",
      "127                 Uganda             127\n",
      "128                Uruguay             128\n",
      "129              Venezuela             129\n",
      "130                Vietnam             130\n",
      "131                  Yemen             131\n",
      "132           South Africa             132\n",
      "133                 Zambia             133\n",
      "134               Zimbabwe             134\n"
     ]
    }
   ],
   "source": [
    "# Print the mapping of countries to dummy values\n",
    "print(country_dummy_mapping)"
   ]
  },
  {
   "cell_type": "markdown",
   "id": "c417e40b-5711-4666-8ecd-185984056d06",
   "metadata": {
    "id": "c417e40b-5711-4666-8ecd-185984056d06"
   },
   "source": [
    "Here are the dummy codes assigned to the remaining 134 countries in the \"census_fips_code\" column."
   ]
  },
  {
   "cell_type": "code",
   "execution_count": 49,
   "id": "a34c7755-8b07-43d5-8285-3f251e03c749",
   "metadata": {
    "id": "a34c7755-8b07-43d5-8285-3f251e03c749"
   },
   "outputs": [
    {
     "name": "stdout",
     "output_type": "stream",
     "text": [
      "[1] \"Missing census_fips_code values for the United States:  0.43826672562669\"\n"
     ]
    }
   ],
   "source": [
    "# Check for missing values in census_fips_code for the United States\n",
    "missing_fips_us <- dataset_global_mobility %>%\n",
    "  filter(country_region == \"United States\" & is.na(census_fips_code))\n",
    "\n",
    "# Count the number of missing values\n",
    "count_missing_fips_us <- nrow(missing_fips_us)\n",
    "\n",
    "print(paste(\"Missing census_fips_code values for the United States: \", ((count_missing_fips_us/3991405)*100)))\n"
   ]
  },
  {
   "cell_type": "markdown",
   "id": "1c4c967d-22ba-4f31-b1a9-f9f9296219c1",
   "metadata": {
    "id": "1c4c967d-22ba-4f31-b1a9-f9f9296219c1"
   },
   "source": [
    "Since there are only about 0.43% of missing values in the \"census_fips_code\" feature column for the United States, these missing can be completed removed from the dataset."
   ]
  },
  {
   "cell_type": "code",
   "execution_count": 52,
   "id": "ae60f86b-dd11-496f-b412-35e6e2c21c4a",
   "metadata": {
    "id": "ae60f86b-dd11-496f-b412-35e6e2c21c4a"
   },
   "outputs": [],
   "source": [
    "# Remove observations with missing values in \"census_fips_code\" column for the United States country\n",
    "dataset_global_mobility <- dataset_global_mobility %>%\n",
    "  filter(!is.na(census_fips_code))"
   ]
  },
  {
   "cell_type": "code",
   "execution_count": 54,
   "id": "6122193f-f3f3-43fe-a80a-a815c115dd03",
   "metadata": {
    "id": "6122193f-f3f3-43fe-a80a-a815c115dd03"
   },
   "outputs": [
    {
     "data": {
      "text/html": [
       "0"
      ],
      "text/latex": [
       "0"
      ],
      "text/markdown": [
       "0"
      ],
      "text/plain": [
       "[1] 0"
      ]
     },
     "metadata": {},
     "output_type": "display_data"
    }
   ],
   "source": [
    "sum(is.na(dataset_global_mobility$census_fips_code))"
   ]
  },
  {
   "cell_type": "markdown",
   "id": "0c623532-e019-4333-8675-235fb5590cc3",
   "metadata": {
    "id": "0c623532-e019-4333-8675-235fb5590cc3"
   },
   "source": [
    "All the missing values in the column \"census_fips_code\" have been properly handled."
   ]
  },
  {
   "cell_type": "code",
   "execution_count": 57,
   "id": "a2f690a8-6c60-4090-8b7b-7923373e1c7e",
   "metadata": {
    "id": "a2f690a8-6c60-4090-8b7b-7923373e1c7e"
   },
   "outputs": [
    {
     "data": {
      "text/html": [
       "0"
      ],
      "text/latex": [
       "0"
      ],
      "text/markdown": [
       "0"
      ],
      "text/plain": [
       "[1] 0"
      ]
     },
     "metadata": {},
     "output_type": "display_data"
    }
   ],
   "source": [
    "# Checking for missing values in the dataset after all the feature processing & summary of the updated dataset\n",
    "sum(is.na(dataset_global_mobility))"
   ]
  },
  {
   "cell_type": "code",
   "execution_count": null,
   "id": "ede08639-c00c-4a27-bac8-0f68b287741e",
   "metadata": {
    "id": "ede08639-c00c-4a27-bac8-0f68b287741e"
   },
   "outputs": [],
   "source": [
    "str(dataset_global_mobility)"
   ]
  },
  {
   "cell_type": "markdown",
   "id": "78e824f7-6c2e-4404-99c3-763c5c36658f",
   "metadata": {
    "id": "78e824f7-6c2e-4404-99c3-763c5c36658f"
   },
   "source": [
    "About 8% of the observations were removed from the original dataset."
   ]
  },
  {
   "cell_type": "markdown",
   "id": "ddcb9773-740f-4419-97ef-4cd072af3be8",
   "metadata": {
    "id": "ddcb9773-740f-4419-97ef-4cd072af3be8"
   },
   "source": [
    "## Analysis on COVID-19 impact"
   ]
  },
  {
   "cell_type": "markdown",
   "id": "fec95144-ec01-4b8a-af71-cadbc6a9e31a",
   "metadata": {
    "id": "fec95144-ec01-4b8a-af71-cadbc6a9e31a",
    "jp-MarkdownHeadingCollapsed": true
   },
   "source": [
    "### Change in visit to Retail & Recreation"
   ]
  },
  {
   "cell_type": "code",
   "execution_count": null,
   "id": "d758421d-de5c-4f9e-8d41-39927d3b654f",
   "metadata": {
    "id": "d758421d-de5c-4f9e-8d41-39927d3b654f"
   },
   "outputs": [],
   "source": [
    "install.packages('IRkernel')\n",
    "IRkernel::installspec()\n"
   ]
  },
  {
   "cell_type": "code",
   "execution_count": null,
   "id": "0bf452fe-c8f8-4d15-b165-ac88b7ebb0a3",
   "metadata": {
    "id": "0bf452fe-c8f8-4d15-b165-ac88b7ebb0a3"
   },
   "outputs": [],
   "source": [
    "# Save the updated and cleaned dataset as a CSV file\n",
    "write.csv(dataset_global_mobility, \"dataset_global_mobility_cleaned.csv\", row.names = FALSE)"
   ]
  },
  {
   "cell_type": "code",
   "execution_count": null,
   "id": "90009401-ab06-4290-b036-2310a8993620",
   "metadata": {
    "id": "90009401-ab06-4290-b036-2310a8993620"
   },
   "outputs": [],
   "source": [
    "# Convert year_month to Date type (first day of the month to make it a proper date)\n",
    "dataset_global_mobility <- dataset_global_mobility %>%\n",
    "  mutate(year_month = as.Date(paste0(year_month, \"-01\")))\n",
    "\n",
    "# Filter for the years 2020 and 2021, extracting the year directly during summarization\n",
    "filtered_data <- dataset_global_mobility %>%\n",
    "  filter(format(year_month, \"%Y\") %in% c(\"2020\", \"2021\"))\n",
    "\n",
    "# Calculate the mean percent change for retail and recreation for each country and year\n",
    "aggregated_data_retail_recreation <- filtered_data %>%\n",
    "  group_by(country_region, year = format(year_month, \"%Y\")) %>%\n",
    "  summarise(mean_percent_change_retail_recreation = mean(retail_and_recreation_percent_change_from_baseline, na.rm = TRUE)) %>%\n",
    "  ungroup()\n",
    "\n",
    "# Calculate the overall mean percent change of visit to retail & recreation locations for each country across both years (2020 & 2021)\n",
    "overall_mean_retail_recreation <- aggregated_data_retail_recreation %>%\n",
    "  group_by(country_region) %>%\n",
    "  summarise(overall_mean_change_retail_recreation = mean(mean_percent_change_retail_recreation, na.rm = TRUE)) %>%\n",
    "  arrange(desc(overall_mean_change_retail_recreation))\n",
    "\n",
    "# Select only the top 20 countries based on the overall mean percent change\n",
    "top_countries_retail_recreation <- overall_mean_retail_recreation %>%\n",
    "  top_n(20, wt = overall_mean_change_retail_recreation)\n",
    "\n",
    "# Calculate the mean percent change for the United States\n",
    "us_data <- aggregated_data_retail_recreation %>%\n",
    "  filter(country_region == \"United States\")\n",
    "\n",
    "# Filter the data for top countries and add United States\n",
    "top_aggregated_data_retail_recreation <- aggregated_data_retail_recreation %>%\n",
    "  filter(country_region %in% c(top_countries_retail_recreation$country_region, \"United States\"))\n",
    "\n",
    "# Plot for top countries including the United States\n",
    "plot_retail_recreation <- ggplot(top_aggregated_data_retail_recreation, aes(x = reorder(country_region, -mean_percent_change_retail_recreation), y = mean_percent_change_retail_recreation, fill = as.factor(year))) +\n",
    "  geom_bar(stat = \"identity\", position = position_dodge()) +\n",
    "  labs(title = \"Top 20 countries with highest % change in visit to retail & recreation in 2020 & 2021 compared to baseline\",\n",
    "       x = \"Country\",\n",
    "       y = \"Mean Percent Change from Baseline\",\n",
    "       fill = \"Year\") +\n",
    "  scale_y_continuous(breaks = seq(-100, 100, by = 5)) +\n",
    "  theme_minimal() +\n",
    "  theme(axis.text.x = element_text(angle = 90, hjust = 1))\n",
    "\n",
    "print(plot_retail_recreation)"
   ]
  },
  {
   "cell_type": "code",
   "execution_count": null,
   "id": "4af225f2-9f61-4a16-a1b0-bdf5828bc334",
   "metadata": {
    "id": "4af225f2-9f61-4a16-a1b0-bdf5828bc334"
   },
   "outputs": [],
   "source": [
    "# Save the plot to a file\n",
    "ggsave(\"retail_recreation_plot.png\", plot = plot_retail_recreation, width = 12, height = 8, dpi = 300)"
   ]
  },
  {
   "cell_type": "markdown",
   "id": "9c0d65d9-1c88-4b63-ac56-2d0e7cc3e18d",
   "metadata": {
    "id": "9c0d65d9-1c88-4b63-ac56-2d0e7cc3e18d",
    "jp-MarkdownHeadingCollapsed": true
   },
   "source": [
    "### Change in visit to Grocery & Pharmacy"
   ]
  },
  {
   "cell_type": "code",
   "execution_count": null,
   "id": "33b8e017-c781-42be-b08e-af020c633430",
   "metadata": {
    "id": "33b8e017-c781-42be-b08e-af020c633430"
   },
   "outputs": [],
   "source": [
    "# Convert year_month to Date type (first day of the month to make it a proper date)\n",
    "dataset_global_mobility <- dataset_global_mobility %>%\n",
    "  mutate(year_month = as.Date(paste0(year_month, \"-01\")))\n",
    "\n",
    "# Filter for the years 2020 and 2021, extracting the year directly during summarization\n",
    "filtered_data <- dataset_global_mobility %>%\n",
    "  filter(format(year_month, \"%Y\") %in% c(\"2020\", \"2021\"))\n",
    "\n",
    "# Calculate the mean percent change for grocery and pharmacy for each country and year\n",
    "aggregated_data_grocery_pharmacy <- filtered_data %>%\n",
    "  group_by(country_region, year = format(year_month, \"%Y\")) %>%\n",
    "  summarise(mean_percent_change_grocery_pharmacy = mean(grocery_and_pharmacy_percent_change_from_baseline, na.rm = TRUE)) %>%\n",
    "  ungroup()\n",
    "\n",
    "# Calculate the overall mean percent change of visit to grocery & pharmacy locations for each country across both years (2020 & 2021)\n",
    "overall_mean_grocery_pharmacy <- aggregated_data_grocery_pharmacy %>%\n",
    "  group_by(country_region) %>%\n",
    "  summarise(overall_mean_change_grocery_pharmacy = mean(mean_percent_change_grocery_pharmacy, na.rm = TRUE)) %>%\n",
    "  arrange(desc(overall_mean_change_grocery_pharmacy))\n",
    "\n",
    "# Select only the top 20 countries based on the overall mean percent change\n",
    "top_countries_grocery_pharmacy <- overall_mean_grocery_pharmacy %>%\n",
    "  top_n(20, wt = overall_mean_change_grocery_pharmacy)\n",
    "\n",
    "# Calculate the mean percent change for the United States\n",
    "usa_data_grocery_pharmacy <- aggregated_data_grocery_pharmacy %>%\n",
    "  filter(country_region == \"United States\")\n",
    "\n",
    "# Filter the data for top countries and add United States\n",
    "top_aggregated_data_grocery_pharmacy <- aggregated_data_grocery_pharmacy %>%\n",
    "  filter(country_region %in% c(top_countries_grocery_pharmacy$country_region, \"United States\"))\n",
    "\n",
    "# Plot for top countries including the United States\n",
    "plot_grocery_pharmacy <- ggplot(top_aggregated_data_grocery_pharmacy, aes(x = reorder(country_region, -mean_percent_change_grocery_pharmacy), y = mean_percent_change_grocery_pharmacy, fill = as.factor(year))) +\n",
    "  geom_bar(stat = \"identity\", position = position_dodge()) +\n",
    "  labs(title = \"Top 20 countries with highest % change in visit to grocery & pharmacy in 2020 & 2021 compared to baseline\",\n",
    "       x = \"Country\",\n",
    "       y = \"Mean Percent Change from Baseline\",\n",
    "       fill = \"Year\") +\n",
    "  scale_y_continuous(breaks = seq(-100, 100, by = 5)) +\n",
    "  theme_minimal() +\n",
    "  theme(axis.text.x = element_text(angle = 90, hjust = 1))\n",
    "\n",
    "print(plot_grocery_pharmacy)\n",
    "\n",
    "# Save the plot\n",
    "ggsave(\"plot_grocery_pharmacy_with_usa.png\", plot = plot_grocery_pharmacy, width = 10, height = 6)\n"
   ]
  },
  {
   "cell_type": "markdown",
   "id": "5c4e92c3-8077-45a6-b445-8b1cd7ecc989",
   "metadata": {
    "id": "5c4e92c3-8077-45a6-b445-8b1cd7ecc989",
    "jp-MarkdownHeadingCollapsed": true
   },
   "source": [
    "### Change in visit to Parks"
   ]
  },
  {
   "cell_type": "code",
   "execution_count": null,
   "id": "3e6c359a-7856-4c37-930f-ab1e74e9bfee",
   "metadata": {
    "id": "3e6c359a-7856-4c37-930f-ab1e74e9bfee"
   },
   "outputs": [],
   "source": [
    "\n",
    "# Convert year_month to Date type (first day of the month to make it a proper date)\n",
    "dataset_global_mobility <- dataset_global_mobility %>%\n",
    "  mutate(year_month = as.Date(paste0(year_month, \"-01\")))\n",
    "\n",
    "# Filter for the years 2020 and 2021, extracting the year directly during summarization\n",
    "filtered_data <- dataset_global_mobility %>%\n",
    "  filter(format(year_month, \"%Y\") %in% c(\"2020\", \"2021\"))\n",
    "\n",
    "# Calculate the mean percent change for parks for each country and year\n",
    "aggregated_data_parks <- filtered_data %>%\n",
    "  group_by(country_region, year = format(year_month, \"%Y\")) %>%\n",
    "  summarise(mean_percent_change_parks = mean(parks_percent_change_from_baseline, na.rm = TRUE)) %>%\n",
    "  ungroup()\n",
    "\n",
    "# Calculate the overall mean percent change of visit to parks locations for each country across both years (2020 & 2021)\n",
    "overall_mean_parks <- aggregated_data_parks %>%\n",
    "  group_by(country_region) %>%\n",
    "  summarise(overall_mean_change_parks = mean(mean_percent_change_parks, na.rm = TRUE)) %>%\n",
    "  arrange(desc(overall_mean_change_parks))\n",
    "\n",
    "# Select only the top 20 countries based on the overall mean percent change\n",
    "top_countries_parks <- overall_mean_parks %>%\n",
    "  top_n(20, wt = overall_mean_change_parks)\n",
    "\n",
    "# Calculate the mean percent change for the United States\n",
    "us_data_parks <- aggregated_data_parks %>%\n",
    "  filter(country_region == \"United States\")\n",
    "\n",
    "# Filter the data for top countries and add United States\n",
    "top_aggregated_data_parks <- aggregated_data_parks %>%\n",
    "  filter(country_region %in% c(top_countries_parks$country_region, \"United States\"))\n",
    "\n",
    "# Plot for top countries including the United States\n",
    "plot_parks <- ggplot(top_aggregated_data_parks, aes(x = reorder(country_region, -mean_percent_change_parks), y = mean_percent_change_parks, fill = as.factor(year))) +\n",
    "  geom_bar(stat = \"identity\", position = position_dodge()) +\n",
    "  labs(title = \"Top 20 countries with highest % change in visit to parks in 2020 & 2021 compared to baseline\",\n",
    "       x = \"Country\",\n",
    "       y = \"Mean Percent Change from Baseline\",\n",
    "       fill = \"Year\") +\n",
    "  scale_y_continuous(breaks = seq(-100, 100, by = 5)) +\n",
    "  theme_minimal() +\n",
    "  theme(axis.text.x = element_text(angle = 90, hjust = 1))\n",
    "\n",
    "print(plot_parks)\n",
    "\n",
    "# Save the plot\n",
    "ggsave(\"plot_parks_with_us.png\", plot = plot_parks, width = 10, height = 6)"
   ]
  },
  {
   "cell_type": "markdown",
   "id": "c1b26817-0462-44a3-90be-5ef898009ecb",
   "metadata": {
    "id": "c1b26817-0462-44a3-90be-5ef898009ecb",
    "jp-MarkdownHeadingCollapsed": true
   },
   "source": [
    "### Change in visit to Transit Stations"
   ]
  },
  {
   "cell_type": "code",
   "execution_count": null,
   "id": "a4504ba5-0574-46fd-bfd2-58428e73f7c0",
   "metadata": {
    "id": "a4504ba5-0574-46fd-bfd2-58428e73f7c0"
   },
   "outputs": [],
   "source": [
    "# Convert year_month to Date type (first day of the month to make it a proper date)\n",
    "dataset_global_mobility <- dataset_global_mobility %>%\n",
    "  mutate(year_month = as.Date(paste0(year_month, \"-01\")))\n",
    "\n",
    "# Filter for the years 2020 and 2021, extracting the year directly during summarization\n",
    "filtered_data <- dataset_global_mobility %>%\n",
    "  filter(format(year_month, \"%Y\") %in% c(\"2020\", \"2021\"))\n",
    "\n",
    "# Calculate the mean percent change for transit stations for each country and year\n",
    "aggregated_data_transit_stations <- filtered_data %>%\n",
    "  group_by(country_region, year = format(year_month, \"%Y\")) %>%\n",
    "  summarise(mean_percent_change_transit_stations = mean(transit_stations_percent_change_from_baseline, na.rm = TRUE)) %>%\n",
    "  ungroup()\n",
    "\n",
    "# Calculate the overall mean percent change of visit to transit stations for each country across both years (2020 & 2021)\n",
    "overall_mean_transit_stations <- aggregated_data_transit_stations %>%\n",
    "  group_by(country_region) %>%\n",
    "  summarise(overall_mean_change_transit_stations = mean(mean_percent_change_transit_stations, na.rm = TRUE)) %>%\n",
    "  arrange(desc(overall_mean_change_transit_stations))\n",
    "\n",
    "# Select only the top 20 countries based on the overall mean percent change\n",
    "top_countries_transit_stations <- overall_mean_transit_stations %>%\n",
    "  top_n(20, wt = overall_mean_change_transit_stations)\n",
    "\n",
    "# Calculate the mean percent change for the United States\n",
    "us_data_transit_stations <- aggregated_data_transit_stations %>%\n",
    "  filter(country_region == \"United States\")\n",
    "\n",
    "# Filter the data for top countries and add United States\n",
    "top_aggregated_data_transit_stations <- aggregated_data_transit_stations %>%\n",
    "  filter(country_region %in% c(top_countries_transit_stations$country_region, \"United States\"))\n",
    "\n",
    "# Plot for top countries including the United States\n",
    "plot_transit_stations <- ggplot(top_aggregated_data_transit_stations, aes(x = reorder(country_region, -mean_percent_change_transit_stations), y = mean_percent_change_transit_stations, fill = as.factor(year))) +\n",
    "  geom_bar(stat = \"identity\", position = position_dodge()) +\n",
    "  labs(title = \"Top 20 countries with highest % change in visit to transit stations in 2020 & 2021 compared to baseline\",\n",
    "       x = \"Country\",\n",
    "       y = \"Mean Percent Change from Baseline\",\n",
    "       fill = \"Year\") +\n",
    "  scale_y_continuous(breaks = seq(-100, 100, by = 5)) +\n",
    "  theme_minimal() +\n",
    "  theme(axis.text.x = element_text(angle = 90, hjust = 1))\n",
    "\n",
    "print(plot_transit_stations)\n",
    "\n",
    "# Save the plot\n",
    "ggsave(\"plot_transit_stations_with_us.png\", plot = plot_transit_stations, width = 10, height = 6)"
   ]
  },
  {
   "cell_type": "markdown",
   "id": "fb30aa36-e62a-4e13-8225-83d2c6930359",
   "metadata": {
    "id": "fb30aa36-e62a-4e13-8225-83d2c6930359",
    "jp-MarkdownHeadingCollapsed": true
   },
   "source": [
    "### Change in visit to Workplaces"
   ]
  },
  {
   "cell_type": "code",
   "execution_count": null,
   "id": "d59b795e-76ba-4c31-8335-74989674cebf",
   "metadata": {
    "id": "d59b795e-76ba-4c31-8335-74989674cebf"
   },
   "outputs": [],
   "source": [
    "# Convert year_month to Date type (first day of the month to make it a proper date)\n",
    "dataset_global_mobility <- dataset_global_mobility %>%\n",
    "  mutate(year_month = as.Date(paste0(year_month, \"-01\")))\n",
    "\n",
    "# Filter for the years 2020 and 2021, extracting the year directly during summarization\n",
    "filtered_data <- dataset_global_mobility %>%\n",
    "  filter(format(year_month, \"%Y\") %in% c(\"2020\", \"2021\"))\n",
    "\n",
    "# Calculate the mean percent change for workplaces for each country and year\n",
    "aggregated_data_workplaces <- filtered_data %>%\n",
    "  group_by(country_region, year = format(year_month, \"%Y\")) %>%\n",
    "  summarise(mean_percent_change_workplaces = mean(workplaces_percent_change_from_baseline, na.rm = TRUE)) %>%\n",
    "  ungroup()\n",
    "\n",
    "# Calculate the overall mean percent change of visit to workplaces for each country across both years (2020 & 2021)\n",
    "overall_mean_workplaces <- aggregated_data_workplaces %>%\n",
    "  group_by(country_region) %>%\n",
    "  summarise(overall_mean_change_workplaces = mean(mean_percent_change_workplaces, na.rm = TRUE)) %>%\n",
    "  arrange(desc(overall_mean_change_workplaces))\n",
    "\n",
    "# Select only the top 20 countries based on the overall mean percent change\n",
    "top_countries_workplaces <- overall_mean_workplaces %>%\n",
    "  top_n(20, wt = overall_mean_change_workplaces)\n",
    "\n",
    "# Calculate the mean percent change for the United States\n",
    "us_data_workplaces <- aggregated_data_workplaces %>%\n",
    "  filter(country_region == \"United States\")\n",
    "\n",
    "# Filter the data for top countries and add United States\n",
    "top_aggregated_data_workplaces <- aggregated_data_workplaces %>%\n",
    "  filter(country_region %in% c(top_countries_workplaces$country_region, \"United States\"))\n",
    "\n",
    "# Plot for top countries including the United States\n",
    "plot_workplaces <- ggplot(top_aggregated_data_workplaces, aes(x = reorder(country_region, -mean_percent_change_workplaces), y = mean_percent_change_workplaces, fill = as.factor(year))) +\n",
    "  geom_bar(stat = \"identity\", position = position_dodge()) +\n",
    "  labs(title = \"Top 20 countries with highest % change in visit to workplaces in 2020 & 2021 compared to baseline\",\n",
    "       x = \"Country\",\n",
    "       y = \"Mean Percent Change from Baseline\",\n",
    "       fill = \"Year\") +\n",
    "  scale_y_continuous(breaks = seq(-100, 100, by = 5)) +\n",
    "  theme_minimal() +\n",
    "  theme(axis.text.x = element_text(angle = 90, hjust = 1))\n",
    "\n",
    "print(plot_workplaces)\n",
    "\n",
    "# Save the plot\n",
    "ggsave(\"plot_workplaces_with_us.png\", plot = plot_workplaces, width = 10, height = 6)\n"
   ]
  },
  {
   "cell_type": "markdown",
   "id": "97626e47-3d36-4046-a23b-7714753fc20b",
   "metadata": {
    "id": "97626e47-3d36-4046-a23b-7714753fc20b",
    "jp-MarkdownHeadingCollapsed": true
   },
   "source": [
    "### Change in visit to Residential"
   ]
  },
  {
   "cell_type": "code",
   "execution_count": null,
   "id": "528fa490-9d8e-4b6f-9f75-1e4563deb948",
   "metadata": {
    "id": "528fa490-9d8e-4b6f-9f75-1e4563deb948"
   },
   "outputs": [],
   "source": [
    "# Convert year_month to Date type (first day of the month to make it a proper date)\n",
    "dataset_global_mobility <- dataset_global_mobility %>%\n",
    "  mutate(year_month = as.Date(paste0(year_month, \"-01\")))\n",
    "\n",
    "# Filter for the years 2020 and 2021, extracting the year directly during summarization\n",
    "filtered_data <- dataset_global_mobility %>%\n",
    "  filter(format(year_month, \"%Y\") %in% c(\"2020\", \"2021\"))\n",
    "\n",
    "# Calculate the mean percent change for residential visits for each country and year\n",
    "aggregated_data_residential <- filtered_data %>%\n",
    "  group_by(country_region, year = format(year_month, \"%Y\")) %>%\n",
    "  summarise(mean_percent_change_residential = mean(residential_percent_change_from_baseline, na.rm = TRUE)) %>%\n",
    "  ungroup()\n",
    "\n",
    "# Calculate the overall mean percent change of visit to residential locations for each country across both years (2020 & 2021)\n",
    "overall_mean_residential <- aggregated_data_residential %>%\n",
    "  group_by(country_region) %>%\n",
    "  summarise(overall_mean_change_residential = mean(mean_percent_change_residential, na.rm = TRUE)) %>%\n",
    "  arrange(desc(overall_mean_change_residential))\n",
    "\n",
    "# Select only the top 20 countries based on the overall mean percent change\n",
    "top_countries_residential <- overall_mean_residential %>%\n",
    "  top_n(20, wt = overall_mean_change_residential)\n",
    "\n",
    "# Calculate the mean percent change for the United States\n",
    "us_data_residential <- aggregated_data_residential %>%\n",
    "  filter(country_region == \"United States\")\n",
    "\n",
    "# Filter the data for top countries and add United States\n",
    "top_aggregated_data_residential <- aggregated_data_residential %>%\n",
    "  filter(country_region %in% c(top_countries_residential$country_region, \"United States\"))\n",
    "\n",
    "# Plot for top countries including the United States\n",
    "plot_residential <- ggplot(top_aggregated_data_residential, aes(x = reorder(country_region, -mean_percent_change_residential), y = mean_percent_change_residential, fill = as.factor(year))) +\n",
    "  geom_bar(stat = \"identity\", position = position_dodge()) +\n",
    "  labs(title = \"Top 20 countries with highest % change in visit to residential locations in 2020 & 2021 compared to baseline\",\n",
    "       x = \"Country\",\n",
    "       y = \"Mean Percent Change from Baseline\",\n",
    "       fill = \"Year\") +\n",
    "  scale_y_continuous(breaks = seq(-100, 100, by = 5)) +\n",
    "  theme_minimal() +\n",
    "  theme(axis.text.x = element_text(angle = 90, hjust = 1))\n",
    "\n",
    "print(plot_residential)\n",
    "\n",
    "# Save the plot\n",
    "ggsave(\"plot_residential_with_us.png\", plot = plot_residential, width = 10, height = 6)\n"
   ]
  },
  {
   "cell_type": "markdown",
   "id": "d1bd6073-92d5-4e09-ae50-92be8a6256e0",
   "metadata": {
    "id": "d1bd6073-92d5-4e09-ae50-92be8a6256e0",
    "jp-MarkdownHeadingCollapsed": true
   },
   "source": [
    "### Change in visits between 2020 & 2021"
   ]
  },
  {
   "cell_type": "code",
   "execution_count": null,
   "id": "e8be6e09-265d-490f-b953-637d7fba854c",
   "metadata": {
    "id": "e8be6e09-265d-490f-b953-637d7fba854c"
   },
   "outputs": [],
   "source": [
    "# Convert year_month to Date type (first day of the month to make it a proper date)\n",
    "dataset_global_mobility <- dataset_global_mobility %>%\n",
    "  mutate(year_month = as.Date(paste0(year_month, \"-01\")))\n",
    "\n",
    "# Filter for the years 2020 and 2021\n",
    "filtered_data <- dataset_global_mobility %>%\n",
    "  filter(format(year_month, \"%Y\") %in% c(\"2020\", \"2021\"))\n",
    "\n",
    "# Calculate mean percent changes for visits to public locations\n",
    "mean_changes <- filtered_data %>%\n",
    "  group_by(country_region, year = format(year_month, \"%Y\")) %>%\n",
    "  summarise(\n",
    "    mean_retail_recreation = mean(retail_and_recreation_percent_change_from_baseline, na.rm = TRUE),\n",
    "    mean_grocery_pharmacy = mean(grocery_and_pharmacy_percent_change_from_baseline, na.rm = TRUE),\n",
    "    mean_parks = mean(parks_percent_change_from_baseline, na.rm = TRUE),\n",
    "    mean_transit_stations = mean(transit_stations_percent_change_from_baseline, na.rm = TRUE),\n",
    "    mean_workplaces = mean(workplaces_percent_change_from_baseline, na.rm = TRUE)\n",
    "  ) %>%\n",
    "  ungroup()\n",
    "\n",
    "# Calculate overall mean percent change\n",
    "overall_mean_changes <- mean_changes %>%\n",
    "  rowwise() %>%\n",
    "  mutate(overall_mean_change = mean(c(mean_retail_recreation, mean_grocery_pharmacy,\n",
    "                                       mean_parks, mean_transit_stations,\n",
    "                                       mean_workplaces), na.rm = TRUE)) %>%\n",
    "  ungroup()\n",
    "\n",
    "# Select only the top 20 countries based on the overall mean percent change\n",
    "top_countries <- overall_mean_changes %>%\n",
    "  group_by(country_region) %>%\n",
    "  summarise(overall_mean = mean(overall_mean_change, na.rm = TRUE)) %>%\n",
    "  top_n(20, wt = overall_mean) %>%\n",
    "  pull(country_region)\n",
    "\n",
    "# Filter the overall mean changes for top countries and include the United States\n",
    "top_aggregated_mean_changes <- overall_mean_changes %>%\n",
    "  filter(country_region %in% c(top_countries, \"United States\"))\n",
    "\n",
    "# Plot for top countries including the United States\n",
    "plot_overall_mean_changes <- ggplot(top_aggregated_mean_changes, aes(x = reorder(country_region, -overall_mean_change), y = overall_mean_change, fill = as.factor(year))) +\n",
    "  geom_bar(stat = \"identity\", position = position_dodge()) +\n",
    "  labs(title = \"Top 20 countries (including USA) with highest change in visits to public locations between 2020 & 2021\",\n",
    "       x = \"Country\",\n",
    "       y = \"Average Percent Change from Baseline\",\n",
    "       fill = \"Year\") +\n",
    "  scale_y_continuous(breaks = seq(-100, 100, by = 5)) +\n",
    "  theme_minimal() +\n",
    "  theme(axis.text.x = element_text(angle = 90, hjust = 1))\n",
    "\n",
    "print(plot_overall_mean_changes)\n",
    "\n",
    "# Save the plot\n",
    "ggsave(\"plot_overall_mean_changes.png\", plot = plot_overall_mean_changes, width = 10, height = 6)"
   ]
  },
  {
   "cell_type": "markdown",
   "id": "KwJJ3wIKQDea",
   "metadata": {
    "id": "KwJJ3wIKQDea"
   },
   "source": [
    "### Change in visits to public locations in different US states"
   ]
  },
  {
   "cell_type": "code",
   "execution_count": 100,
   "id": "jQNFAxdIN5sr",
   "metadata": {
    "id": "jQNFAxdIN5sr"
   },
   "outputs": [],
   "source": [
    "# Filter for \"United States\" from \"country_region\" column\n",
    "us_data <- dataset_global_mobility %>%\n",
    "  filter(country_region == \"United States\")\n",
    "\n",
    "# Extract first two digits from 'census_fips_code' to get state codes\n",
    "us_data <- us_data %>%\n",
    "  mutate(state_code = substr(census_fips_code, 1, 2))\n",
    "\n",
    "# Compute mean percent changes for visits to public locations by state\n",
    "state_avg_change <- us_data %>%\n",
    "  group_by(state_code) %>%\n",
    "  summarise(\n",
    "    mean_retail_recreation = mean(retail_and_recreation_percent_change_from_baseline, na.rm = TRUE),\n",
    "    mean_grocery_pharmacy = mean(grocery_and_pharmacy_percent_change_from_baseline, na.rm = TRUE),\n",
    "    mean_parks = mean(parks_percent_change_from_baseline, na.rm = TRUE),\n",
    "    mean_transit_stations = mean(transit_stations_percent_change_from_baseline, na.rm = TRUE),\n",
    "    mean_workplaces = mean(workplaces_percent_change_from_baseline, na.rm = TRUE)\n",
    "  ) %>%\n",
    "  rowwise() %>%\n",
    "  mutate(avg_percent_change_US_states = mean(c(mean_retail_recreation, mean_grocery_pharmacy,\n",
    "                                     mean_parks, mean_transit_stations,\n",
    "                                     mean_workplaces), na.rm = TRUE)) %>%\n",
    "  ungroup()\n",
    "\n",
    "\n"
   ]
  },
  {
   "cell_type": "code",
   "execution_count": 102,
   "id": "glHTVr-aVwlf",
   "metadata": {
    "id": "glHTVr-aVwlf"
   },
   "outputs": [
    {
     "data": {
      "image/png": "[encoded data removed]",
      "text/plain": [
       "plot without title"
      ]
     },
     "metadata": {
      "image/png": {
       "height": 420,
       "width": 420
      }
     },
     "output_type": "display_data"
    }
   ],
   "source": [
    "# Plot the average percentage change for each state\n",
    "ggplot(state_avg_change, aes(x = state_code, y = avg_percent_change_US_states)) +\n",
    "  geom_bar(stat = \"identity\", fill = \"skyblue\") +\n",
    "  labs(title = \"Average Percentage Change in Visits to Public Locations by State\",\n",
    "       x = \"State Code\",\n",
    "       y = \"Average Percentage Change\") +\n",
    "  theme_minimal() +\n",
    "  theme(axis.text.x = element_text(angle = 90, hjust = 1))"
   ]
  },
  {
   "cell_type": "code",
   "execution_count": 104,
   "id": "6d6cf8d8-6a7d-49b1-88f5-5bd271776f7f",
   "metadata": {},
   "outputs": [
    {
     "data": {
      "image/png": "[encoded data removed]",
      "text/plain": [
       "plot without title"
      ]
     },
     "metadata": {
      "image/png": {
       "height": 420,
       "width": 420
      }
     },
     "output_type": "display_data"
    }
   ],
   "source": [
    "# Calculate the mean percent change for residential visits by state\n",
    "state_avg_change_residential <- us_data %>%\n",
    "  group_by(state_code) %>%\n",
    "  summarise(mean_residential = mean(residential_percent_change_from_baseline, na.rm = TRUE)) %>%\n",
    "  ungroup()\n",
    "\n",
    "# Plot the average percentage change for each state for residential visits\n",
    "ggplot(state_avg_change_residential, aes(x = state_code, y = mean_residential)) +\n",
    "  geom_bar(stat = \"identity\", fill = \"skyblue\") +\n",
    "  labs(title = \"Average Percentage Change staying home by State\",\n",
    "       x = \"State Code\",\n",
    "       y = \"Average Percentage Change\") +\n",
    "  theme_minimal() +\n",
    "  theme(axis.text.x = element_text(angle = 90, hjust = 1))"
   ]
  },
  {
   "cell_type": "markdown",
   "id": "b22b3664-9609-4fc5-a8db-4e7e01933c65",
   "metadata": {},
   "source": [
    "Similary to what we see in the previous chart, we can still that there were comparatively more people stayed home in Hawaii (second to New Jersey with state code of 34). "
   ]
  },
  {
   "cell_type": "markdown",
   "id": "fd1a40ff-fb70-4ce1-9913-db17bbd6c262",
   "metadata": {},
   "source": [
    "### Overview of state fips code"
   ]
  },
  {
   "cell_type": "code",
   "execution_count": null,
   "id": "c46ad70b-188c-4f7e-b5bb-1d8ba60a8905",
   "metadata": {},
   "outputs": [],
   "source": [
    "# Create dataset with first column containing states fip codes and corresponding mean % change values in second column\n",
    "select(state_code, avg_percent_change_US_states)\n",
    "print(state_avg_change)"
   ]
  },
  {
   "cell_type": "code",
   "execution_count": 98,
   "id": "RfWmGfz_TvuW",
   "metadata": {
    "colab": {
     "base_uri": "https://localhost:8080/",
     "height": 263
    },
    "id": "RfWmGfz_TvuW",
    "outputId": "67251cd4-8bc9-442b-ec81-169ac29c8133"
   },
   "outputs": [
    {
     "name": "stdout",
     "output_type": "stream",
     "text": [
      " [1] \"10\" \"11\" \"12\" \"13\" \"15\" \"16\" \"17\" \"18\" \"19\" \"20\" \"21\" \"22\" \"23\" \"24\" \"25\"\n",
      "[16] \"26\" \"27\" \"28\" \"29\" \"30\" \"31\" \"32\" \"33\" \"34\" \"35\" \"36\" \"37\" \"38\" \"39\" \"40\"\n",
      "[31] \"41\" \"42\" \"44\" \"45\" \"46\" \"47\" \"48\" \"49\" \"50\" \"51\" \"53\" \"54\" \"55\" \"56\" \"60\"\n",
      "[46] \"61\" \"80\" \"81\" \"90\"\n"
     ]
    }
   ],
   "source": [
    "# Sort and filter FIPS codes larger than 134\n",
    "filtered_fips_codes <- sort(unique(dataset_global_mobility$census_fips_code))\n",
    "filtered_fips_codes <- filtered_fips_codes[filtered_fips_codes > 134]\n",
    "\n",
    "# Extract the first two digits from each filtered FIPS code\n",
    "first_two_digits <- substr(filtered_fips_codes, 1, 2)\n",
    "\n",
    "# Print the result\n",
    "print(sort(unique(first_two_digits)))"
   ]
  },
  {
   "cell_type": "markdown",
   "id": "2078c011-5a81-476b-92c4-07c1e162d509",
   "metadata": {},
   "source": [
    "These fip codes represent various US states (missing many US states)."
   ]
  },
  {
   "cell_type": "code",
   "execution_count": null,
   "id": "a0500190-6b2d-4471-a395-d5998b1ae84d",
   "metadata": {},
   "outputs": [],
   "source": []
  }
 ],
 "metadata": {
  "accelerator": "GPU",
  "colab": {
   "gpuType": "T4",
   "include_colab_link": true,
   "provenance": []
  },
  "kernelspec": {
   "display_name": "R",
   "language": "R",
   "name": "ir"
  },
  "language_info": {
   "codemirror_mode": "r",
   "file_extension": ".r",
   "mimetype": "text/x-r-source",
   "name": "R",
   "pygments_lexer": "r",
   "version": "4.4.1"
  }
 },
 "nbformat": 4,
 "nbformat_minor": 5
}
